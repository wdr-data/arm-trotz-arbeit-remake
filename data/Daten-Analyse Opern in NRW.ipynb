{
 "cells": [
  {
   "cell_type": "markdown",
   "metadata": {},
   "source": [
    "# Wie divers ist die Oper in NRW?"
   ]
  },
  {
   "cell_type": "markdown",
   "metadata": {},
   "source": [
    "Wir haben per Umfrage die Spielpläne aller 13 kommunalen Bühnen in NRW mit Opern im Programm abgefragt und analysiert. Teilweise wurden Daten händisch nachgetragen und bereinigt: [opern_nrw_18_19.csv]('https://raw.githubusercontent.com/wdr-data/starter/main/content/stories/19-06-27_oper/data/opern_nrw_18_19.csv')\n",
    "\n",
    "Im zweiten Schritt haben wir eine Liste von 40.000 KomponistInnen aus WikiData abgerufen und diese mit unseren Opern-Daten verschnitten, um Geburts- und Sterbejahr und Geschlecht zuzuordnen: [komponisten.wikidata.csv]('https://raw.githubusercontent.com/wdr-data/starter/main/content/stories/19-06-27_oper/data/komponisten.csv')\n",
    "\n",
    "\n",
    "Falls Ihnen Fehler in den Daten auffallen oder sie uns eine Nachricht schicken möchten, schreiben sie gerne an data@wdr.de."
   ]
  },
  {
   "cell_type": "code",
   "execution_count": 1,
   "metadata": {},
   "outputs": [],
   "source": [
    "# Pakete laden \n",
    "\n",
    "import pandas as pd\n",
    "import wptools\n",
    "import wikidata\n",
    "import wikipedia\n",
    "import numpy as np\n",
    "import requests\n",
    "import json\n",
    "\n",
    "import matplotlib.pyplot as plt\n",
    "import seaborn\n",
    "\n",
    "pd.options.display.max_rows = 999\n",
    "pd.options.display.max_colwidth = 1000\n",
    "\n",
    "from IPython.display import IFrame \n",
    "\n",
    "%matplotlib inline "
   ]
  },
  {
   "cell_type": "code",
   "execution_count": 2,
   "metadata": {},
   "outputs": [],
   "source": [
    "# Daten einlesen \n",
    "\n",
    "df = pd.read_csv('opern_nrw_18_19.csv')"
   ]
  },
  {
   "cell_type": "code",
   "execution_count": 3,
   "metadata": {},
   "outputs": [
    {
     "data": {
      "text/html": [
       "<div>\n",
       "<style scoped>\n",
       "    .dataframe tbody tr th:only-of-type {\n",
       "        vertical-align: middle;\n",
       "    }\n",
       "\n",
       "    .dataframe tbody tr th {\n",
       "        vertical-align: top;\n",
       "    }\n",
       "\n",
       "    .dataframe thead th {\n",
       "        text-align: right;\n",
       "    }\n",
       "</style>\n",
       "<table border=\"1\" class=\"dataframe\">\n",
       "  <thead>\n",
       "    <tr style=\"text-align: right;\">\n",
       "      <th></th>\n",
       "      <th>Spielstätte</th>\n",
       "      <th>Ort</th>\n",
       "      <th>Titel</th>\n",
       "      <th>Anzahl</th>\n",
       "      <th>Komponist</th>\n",
       "      <th>Komponist_ber</th>\n",
       "      <th>Geburtsort</th>\n",
       "      <th>Geschlecht</th>\n",
       "      <th>Geburtsdatum</th>\n",
       "      <th>Geburtsjahr</th>\n",
       "      <th>Alter</th>\n",
       "      <th>Sterbedatum</th>\n",
       "      <th>Verstorben</th>\n",
       "      <th>Art</th>\n",
       "      <th>Bemerkung</th>\n",
       "    </tr>\n",
       "  </thead>\n",
       "  <tbody>\n",
       "    <tr>\n",
       "      <th>114</th>\n",
       "      <td>Theater Krefeld Mönchengladbach</td>\n",
       "      <td>Krefeld/Mönchengladbach</td>\n",
       "      <td>Nabucco</td>\n",
       "      <td>7</td>\n",
       "      <td>Giuseppe Verdi</td>\n",
       "      <td>Giuseppe Verdi</td>\n",
       "      <td>Le Roncole</td>\n",
       "      <td>männlich</td>\n",
       "      <td>1813-10-10 00:00:00+00:00</td>\n",
       "      <td>1813</td>\n",
       "      <td>206</td>\n",
       "      <td>1901</td>\n",
       "      <td>Tot</td>\n",
       "      <td>wiederaufnahmen</td>\n",
       "      <td>NaN</td>\n",
       "    </tr>\n",
       "  </tbody>\n",
       "</table>\n",
       "</div>"
      ],
      "text/plain": [
       "                         Spielstätte                      Ort    Titel  \\\n",
       "114  Theater Krefeld Mönchengladbach  Krefeld/Mönchengladbach  Nabucco   \n",
       "\n",
       "     Anzahl       Komponist   Komponist_ber  Geburtsort Geschlecht  \\\n",
       "114       7  Giuseppe Verdi  Giuseppe Verdi  Le Roncole   männlich   \n",
       "\n",
       "                  Geburtsdatum  Geburtsjahr  Alter  Sterbedatum Verstorben  \\\n",
       "114  1813-10-10 00:00:00+00:00         1813    206         1901        Tot   \n",
       "\n",
       "                 Art Bemerkung  \n",
       "114  wiederaufnahmen       NaN  "
      ]
     },
     "execution_count": 3,
     "metadata": {},
     "output_type": "execute_result"
    }
   ],
   "source": [
    "# Zufällige Zeile aus dem Datensatz ansehen\n",
    "\n",
    "df.sample()"
   ]
  },
  {
   "cell_type": "code",
   "execution_count": 4,
   "metadata": {},
   "outputs": [
    {
     "data": {
      "text/plain": [
       "(159, 15)"
      ]
     },
     "execution_count": 4,
     "metadata": {},
     "output_type": "execute_result"
    }
   ],
   "source": [
    "# Wie groß ist der Datensatz?\n",
    "\n",
    "df.shape"
   ]
  },
  {
   "cell_type": "code",
   "execution_count": 5,
   "metadata": {},
   "outputs": [
    {
     "data": {
      "text/plain": [
       "Index(['Spielstätte', 'Ort', 'Titel', 'Anzahl', 'Komponist', 'Komponist_ber',\n",
       "       'Geburtsort', 'Geschlecht', 'Geburtsdatum', 'Geburtsjahr', 'Alter',\n",
       "       'Sterbedatum', 'Verstorben', 'Art', 'Bemerkung'],\n",
       "      dtype='object')"
      ]
     },
     "execution_count": 5,
     "metadata": {},
     "output_type": "execute_result"
    }
   ],
   "source": [
    "# Welche Spalten gibt es?\n",
    "\n",
    "df.columns"
   ]
  },
  {
   "cell_type": "code",
   "execution_count": 6,
   "metadata": {},
   "outputs": [],
   "source": [
    "# Spalten auswählen\n",
    "\n",
    "df = df[['Spielstätte', 'Ort', 'Titel', 'Anzahl', 'Komponist', 'Komponist_ber',\n",
    "       'Geburtsort', 'Geschlecht', 'Geburtsjahr', 'Alter',\n",
    "       'Sterbedatum', 'Verstorben', 'Art', 'Bemerkung']]"
   ]
  },
  {
   "cell_type": "code",
   "execution_count": 7,
   "metadata": {},
   "outputs": [
    {
     "name": "stdout",
     "output_type": "stream",
     "text": [
      "<class 'pandas.core.frame.DataFrame'>\n",
      "RangeIndex: 159 entries, 0 to 158\n",
      "Data columns (total 14 columns):\n",
      "Spielstätte      159 non-null object\n",
      "Ort              159 non-null object\n",
      "Titel            159 non-null object\n",
      "Anzahl           159 non-null int64\n",
      "Komponist        146 non-null object\n",
      "Komponist_ber    159 non-null object\n",
      "Geburtsort       158 non-null object\n",
      "Geschlecht       159 non-null object\n",
      "Geburtsjahr      159 non-null int64\n",
      "Alter            159 non-null int64\n",
      "Sterbedatum      159 non-null int64\n",
      "Verstorben       159 non-null object\n",
      "Art              159 non-null object\n",
      "Bemerkung        17 non-null object\n",
      "dtypes: int64(4), object(10)\n",
      "memory usage: 17.5+ KB\n"
     ]
    }
   ],
   "source": [
    "df.info()"
   ]
  },
  {
   "cell_type": "markdown",
   "metadata": {},
   "source": [
    "## Ouvertüre\n",
    "Vorweg: Wir jammern auf hohem Niveau. Denn alles in allem steht es gut um die Oper in Nordrhein-Westfalen. In der letzten Spielzeit stemmten die **13 kommunalen Bühnen** über **hundert Inszenierungen** – mit insgesamt **mehr als tausend Aufführungen**. In anderen Worten: Opernfreunde hatten im Schnitt jeden Tag die Wahl zwischen **rund drei Opernaufführungen**."
   ]
  },
  {
   "cell_type": "code",
   "execution_count": 8,
   "metadata": {},
   "outputs": [
    {
     "data": {
      "text/plain": [
       "1024"
      ]
     },
     "execution_count": 8,
     "metadata": {},
     "output_type": "execute_result"
    }
   ],
   "source": [
    "# Gesamtsumme der Aufführungen \n",
    "\n",
    "df.Anzahl.sum()"
   ]
  },
  {
   "cell_type": "code",
   "execution_count": 9,
   "metadata": {},
   "outputs": [
    {
     "data": {
      "text/plain": [
       "115"
      ]
     },
     "execution_count": 9,
     "metadata": {},
     "output_type": "execute_result"
    }
   ],
   "source": [
    "# Anzahl der verschiedenen gespielten Opern\n",
    "\n",
    "len(df.Titel.unique())"
   ]
  },
  {
   "cell_type": "code",
   "execution_count": 25,
   "metadata": {},
   "outputs": [
    {
     "data": {
      "text/plain": [
       "13"
      ]
     },
     "execution_count": 25,
     "metadata": {},
     "output_type": "execute_result"
    }
   ],
   "source": [
    "# Anzahl der Spielstätten\n",
    "len(df.Spielstätte.unique())"
   ]
  },
  {
   "cell_type": "code",
   "execution_count": 26,
   "metadata": {},
   "outputs": [
    {
     "data": {
      "text/plain": [
       "2.8054794520547945"
      ]
     },
     "execution_count": 26,
     "metadata": {},
     "output_type": "execute_result"
    }
   ],
   "source": [
    "df.Anzahl.sum() / 365"
   ]
  },
  {
   "cell_type": "markdown",
   "metadata": {},
   "source": [
    "## Introduktion\n"
   ]
  },
  {
   "cell_type": "markdown",
   "metadata": {},
   "source": [
    "### Ältere werden häufiger aufgeführt\n",
    "Während lebende KomponistInnen oft nur 1-8 mal aufgeführt werden, werden Komponisten, die über 150 Jahre alt sind besonders häufig aufgeführt. Spitzenreiter sind Guiseppe Verdi und Wolfgang Amadeus Mozart."
   ]
  },
  {
   "cell_type": "code",
   "execution_count": 44,
   "metadata": {},
   "outputs": [],
   "source": [
    "# Spalten auswählen \n",
    "age_vs_anzahl = df[['Komponist_ber', 'Geburtsjahr', 'Anzahl', 'Verstorben']]"
   ]
  },
  {
   "cell_type": "code",
   "execution_count": 56,
   "metadata": {},
   "outputs": [],
   "source": [
    "# Daten sortieren anhand Anzahl, Geburtsjahr, Verstorben\n",
    "age_vs_anzahl = age_vs_anzahl.pivot_table(values=['Anzahl', 'Geburtsjahr', 'Verstorben'], index='Komponist_ber', aggfunc={'Anzahl': 'sum', 'Geburtsjahr': 'min', 'Verstorben': 'min'})"
   ]
  },
  {
   "cell_type": "code",
   "execution_count": 57,
   "metadata": {},
   "outputs": [
    {
     "data": {
      "text/html": [
       "<div>\n",
       "<style scoped>\n",
       "    .dataframe tbody tr th:only-of-type {\n",
       "        vertical-align: middle;\n",
       "    }\n",
       "\n",
       "    .dataframe tbody tr th {\n",
       "        vertical-align: top;\n",
       "    }\n",
       "\n",
       "    .dataframe thead th {\n",
       "        text-align: right;\n",
       "    }\n",
       "</style>\n",
       "<table border=\"1\" class=\"dataframe\">\n",
       "  <thead>\n",
       "    <tr style=\"text-align: right;\">\n",
       "      <th></th>\n",
       "      <th>Anzahl</th>\n",
       "      <th>Geburtsjahr</th>\n",
       "      <th>Verstorben</th>\n",
       "    </tr>\n",
       "    <tr>\n",
       "      <th>Komponist_ber</th>\n",
       "      <th></th>\n",
       "      <th></th>\n",
       "      <th></th>\n",
       "    </tr>\n",
       "  </thead>\n",
       "  <tbody>\n",
       "    <tr>\n",
       "      <th>Giuseppe Verdi</th>\n",
       "      <td>143</td>\n",
       "      <td>1813</td>\n",
       "      <td>Tot</td>\n",
       "    </tr>\n",
       "    <tr>\n",
       "      <th>Wolfgang Amadeus Mozart</th>\n",
       "      <td>118</td>\n",
       "      <td>1756</td>\n",
       "      <td>Tot</td>\n",
       "    </tr>\n",
       "    <tr>\n",
       "      <th>Richard Wagner</th>\n",
       "      <td>68</td>\n",
       "      <td>1813</td>\n",
       "      <td>Tot</td>\n",
       "    </tr>\n",
       "    <tr>\n",
       "      <th>Jacques Offenbach</th>\n",
       "      <td>59</td>\n",
       "      <td>1819</td>\n",
       "      <td>Tot</td>\n",
       "    </tr>\n",
       "    <tr>\n",
       "      <th>Giacomo Puccini</th>\n",
       "      <td>43</td>\n",
       "      <td>1858</td>\n",
       "      <td>Tot</td>\n",
       "    </tr>\n",
       "  </tbody>\n",
       "</table>\n",
       "</div>"
      ],
      "text/plain": [
       "                         Anzahl  Geburtsjahr Verstorben\n",
       "Komponist_ber                                          \n",
       "Giuseppe Verdi              143         1813        Tot\n",
       "Wolfgang Amadeus Mozart     118         1756        Tot\n",
       "Richard Wagner               68         1813        Tot\n",
       "Jacques Offenbach            59         1819        Tot\n",
       "Giacomo Puccini              43         1858        Tot"
      ]
     },
     "execution_count": 57,
     "metadata": {},
     "output_type": "execute_result"
    }
   ],
   "source": [
    "# Anzeigen\n",
    "age_vs_anzahl.sort_values(by='Anzahl', ascending=False).head()"
   ]
  },
  {
   "cell_type": "code",
   "execution_count": 59,
   "metadata": {},
   "outputs": [],
   "source": [
    "# Als .csv speichern, zur Weiterverarbeitung im Datawrapper \n",
    "# age_vs_anzahl.to_csv('./csv/age_vs_anzahl.csv')"
   ]
  },
  {
   "cell_type": "code",
   "execution_count": 60,
   "metadata": {},
   "outputs": [
    {
     "data": {
      "text/html": [
       "\n",
       "        <iframe\n",
       "            width=\"320\"\n",
       "            height=\"400\"\n",
       "            src=\"//datawrapper.dwcdn.net/48hJE/11/\"\n",
       "            frameborder=\"0\"\n",
       "            allowfullscreen\n",
       "        ></iframe>\n",
       "        "
      ],
      "text/plain": [
       "<IPython.lib.display.IFrame at 0x7f5d5f743390>"
      ]
     },
     "execution_count": 60,
     "metadata": {},
     "output_type": "execute_result"
    }
   ],
   "source": [
    "# iFrame der fertigen Grafik \n",
    "IFrame('//datawrapper.dwcdn.net/48hJE/11/', width='320', height='400')"
   ]
  },
  {
   "cell_type": "markdown",
   "metadata": {},
   "source": [
    "Zu sehen ist das Geburtsjahr im Verhältnis zur Zahl der Aufführungen. Gelbe Quadrate stehen für lebende    KomponistInnen, blaue Punkte für verstorbene. Klicken Sie darauf, um Name, Geburtsjahr und Zahl der Aufführungen zu sehen."
   ]
  },
  {
   "cell_type": "markdown",
   "metadata": {},
   "source": [
    "### Älteste, Jüngste, Meistgespielt"
   ]
  },
  {
   "cell_type": "markdown",
   "metadata": {},
   "source": [
    "Zum Beispiel: Claudio Monteverdi war mit 425 Jahren der älteste gespielte Komponist 2018/19. Leonard Evers mit 34 der jüngste. Bei Leonard Bernstein und Jacques Offenbach sieht man, dass die großen Jubiläumsjahre sehr erfolgreich darin waren, die Komponisten wieder auf die Spielpläne zu setzen.\n",
    "\n",
    "Giuseppe Verdi führt die Liste mit Abstand an – er ist in der letzten Spielzeit gleich 13 mal in NRW inszeniert worden."
   ]
  },
  {
   "cell_type": "code",
   "execution_count": 72,
   "metadata": {},
   "outputs": [
    {
     "data": {
      "text/html": [
       "<div>\n",
       "<style scoped>\n",
       "    .dataframe tbody tr th:only-of-type {\n",
       "        vertical-align: middle;\n",
       "    }\n",
       "\n",
       "    .dataframe tbody tr th {\n",
       "        vertical-align: top;\n",
       "    }\n",
       "\n",
       "    .dataframe thead th {\n",
       "        text-align: right;\n",
       "    }\n",
       "</style>\n",
       "<table border=\"1\" class=\"dataframe\">\n",
       "  <thead>\n",
       "    <tr style=\"text-align: right;\">\n",
       "      <th></th>\n",
       "      <th>Spielstätte</th>\n",
       "      <th>Ort</th>\n",
       "      <th>Titel</th>\n",
       "      <th>Anzahl</th>\n",
       "      <th>Komponist</th>\n",
       "      <th>Komponist_ber</th>\n",
       "      <th>Geburtsort</th>\n",
       "      <th>Geschlecht</th>\n",
       "      <th>Geburtsjahr</th>\n",
       "      <th>Alter</th>\n",
       "      <th>Sterbedatum</th>\n",
       "      <th>Verstorben</th>\n",
       "      <th>Art</th>\n",
       "      <th>Bemerkung</th>\n",
       "    </tr>\n",
       "  </thead>\n",
       "  <tbody>\n",
       "    <tr>\n",
       "      <th>157</th>\n",
       "      <td>Theater Hagen</td>\n",
       "      <td>Hagen</td>\n",
       "      <td>Combattimento di Trancredi e Clorinda</td>\n",
       "      <td>4</td>\n",
       "      <td>Claudio Monteverdi</td>\n",
       "      <td>Claudio Monteverdi</td>\n",
       "      <td>Cremona</td>\n",
       "      <td>männlich</td>\n",
       "      <td>1567</td>\n",
       "      <td>452</td>\n",
       "      <td>1643</td>\n",
       "      <td>Tot</td>\n",
       "      <td>premieren</td>\n",
       "      <td>NaN</td>\n",
       "    </tr>\n",
       "  </tbody>\n",
       "</table>\n",
       "</div>"
      ],
      "text/plain": [
       "       Spielstätte    Ort                                  Titel  Anzahl  \\\n",
       "157  Theater Hagen  Hagen  Combattimento di Trancredi e Clorinda       4   \n",
       "\n",
       "              Komponist       Komponist_ber Geburtsort Geschlecht  \\\n",
       "157  Claudio Monteverdi  Claudio Monteverdi    Cremona   männlich   \n",
       "\n",
       "     Geburtsjahr  Alter  Sterbedatum Verstorben        Art Bemerkung  \n",
       "157         1567    452         1643        Tot  premieren       NaN  "
      ]
     },
     "execution_count": 72,
     "metadata": {},
     "output_type": "execute_result"
    }
   ],
   "source": [
    "df.sort_values(by='Alter', ascending=False).head(1)"
   ]
  },
  {
   "cell_type": "code",
   "execution_count": 73,
   "metadata": {},
   "outputs": [
    {
     "data": {
      "text/html": [
       "<div>\n",
       "<style scoped>\n",
       "    .dataframe tbody tr th:only-of-type {\n",
       "        vertical-align: middle;\n",
       "    }\n",
       "\n",
       "    .dataframe tbody tr th {\n",
       "        vertical-align: top;\n",
       "    }\n",
       "\n",
       "    .dataframe thead th {\n",
       "        text-align: right;\n",
       "    }\n",
       "</style>\n",
       "<table border=\"1\" class=\"dataframe\">\n",
       "  <thead>\n",
       "    <tr style=\"text-align: right;\">\n",
       "      <th></th>\n",
       "      <th>Spielstätte</th>\n",
       "      <th>Ort</th>\n",
       "      <th>Titel</th>\n",
       "      <th>Anzahl</th>\n",
       "      <th>Komponist</th>\n",
       "      <th>Komponist_ber</th>\n",
       "      <th>Geburtsort</th>\n",
       "      <th>Geschlecht</th>\n",
       "      <th>Geburtsjahr</th>\n",
       "      <th>Alter</th>\n",
       "      <th>Sterbedatum</th>\n",
       "      <th>Verstorben</th>\n",
       "      <th>Art</th>\n",
       "      <th>Bemerkung</th>\n",
       "    </tr>\n",
       "  </thead>\n",
       "  <tbody>\n",
       "    <tr>\n",
       "      <th>0</th>\n",
       "      <td>Deutsche Oper am Rhein</td>\n",
       "      <td>Düsseldorf/Duisburg</td>\n",
       "      <td>Gold!</td>\n",
       "      <td>7</td>\n",
       "      <td>NaN</td>\n",
       "      <td>Leonard Evers</td>\n",
       "      <td>Heerlen</td>\n",
       "      <td>männlich</td>\n",
       "      <td>1985</td>\n",
       "      <td>34</td>\n",
       "      <td>0</td>\n",
       "      <td>lebt</td>\n",
       "      <td>sonstiges</td>\n",
       "      <td>Premiere oder Wiederaufnahme?</td>\n",
       "    </tr>\n",
       "  </tbody>\n",
       "</table>\n",
       "</div>"
      ],
      "text/plain": [
       "              Spielstätte                  Ort  Titel  Anzahl Komponist  \\\n",
       "0  Deutsche Oper am Rhein  Düsseldorf/Duisburg  Gold!       7       NaN   \n",
       "\n",
       "   Komponist_ber Geburtsort Geschlecht  Geburtsjahr  Alter  Sterbedatum  \\\n",
       "0  Leonard Evers    Heerlen   männlich         1985     34            0   \n",
       "\n",
       "  Verstorben        Art                      Bemerkung  \n",
       "0       lebt  sonstiges  Premiere oder Wiederaufnahme?  "
      ]
     },
     "execution_count": 73,
     "metadata": {},
     "output_type": "execute_result"
    }
   ],
   "source": [
    "df.sort_values(by='Alter', ascending=True).head(1)"
   ]
  },
  {
   "cell_type": "code",
   "execution_count": 74,
   "metadata": {},
   "outputs": [
    {
     "data": {
      "text/plain": [
       "13"
      ]
     },
     "execution_count": 74,
     "metadata": {},
     "output_type": "execute_result"
    }
   ],
   "source": [
    "len(set(df[df.Komponist_ber == 'Giuseppe Verdi'].Titel))"
   ]
  },
  {
   "cell_type": "code",
   "execution_count": 75,
   "metadata": {},
   "outputs": [
    {
     "data": {
      "text/plain": [
       "{'Aida',\n",
       " 'Die sizilianische Vesper',\n",
       " 'Don Carlo',\n",
       " 'Falstaff',\n",
       " 'Jérusalem',\n",
       " 'La Traviata',\n",
       " 'La forza del destino',\n",
       " 'Luisa Miller',\n",
       " 'Nabucco',\n",
       " 'Otello',\n",
       " 'Rigoletto',\n",
       " 'Simon Boccanegra',\n",
       " 'Viva Verdi'}"
      ]
     },
     "execution_count": 75,
     "metadata": {},
     "output_type": "execute_result"
    }
   ],
   "source": [
    "set(df[df.Komponist_ber == 'Giuseppe Verdi'].Titel)"
   ]
  },
  {
   "cell_type": "markdown",
   "metadata": {},
   "source": [
    "### Im Schnitt 180 Jahre alt"
   ]
  },
  {
   "cell_type": "code",
   "execution_count": 80,
   "metadata": {},
   "outputs": [
    {
     "data": {
      "text/plain": [
       "181.0"
      ]
     },
     "execution_count": 80,
     "metadata": {},
     "output_type": "execute_result"
    }
   ],
   "source": [
    "composers_age = df[['Komponist_ber', 'Alter']]\n",
    "composer_age = composers_age[composers_age.Alter.notnull()]\n",
    "composers_age.Alter.median()"
   ]
  },
  {
   "cell_type": "code",
   "execution_count": 81,
   "metadata": {},
   "outputs": [
    {
     "data": {
      "text/plain": [
       "175.88050314465409"
      ]
     },
     "execution_count": 81,
     "metadata": {},
     "output_type": "execute_result"
    }
   ],
   "source": [
    "composers_age.Alter.mean()"
   ]
  },
  {
   "cell_type": "code",
   "execution_count": 82,
   "metadata": {},
   "outputs": [
    {
     "data": {
      "text/plain": [
       "0    206\n",
       "dtype: int64"
      ]
     },
     "execution_count": 82,
     "metadata": {},
     "output_type": "execute_result"
    }
   ],
   "source": [
    "composers_age.Alter.mode()"
   ]
  },
  {
   "cell_type": "code",
   "execution_count": 79,
   "metadata": {},
   "outputs": [
    {
     "data": {
      "text/plain": [
       "array([[<matplotlib.axes._subplots.AxesSubplot object at 0x7f5d5f979940>]],\n",
       "      dtype=object)"
      ]
     },
     "execution_count": 79,
     "metadata": {},
     "output_type": "execute_result"
    },
    {
     "data": {
      "image/png": "[encoded data removed]",
      "text/plain": [
       "<Figure size 432x288 with 1 Axes>"
      ]
     },
     "metadata": {
      "needs_background": "light"
     },
     "output_type": "display_data"
    }
   ],
   "source": [
    "composers_age.hist()"
   ]
  },
  {
   "cell_type": "markdown",
   "metadata": {},
   "source": [
    "### Lebend / Verstorben\n",
    "Nur 17 der 66 gespielten Komponisten leben noch, das sind 27 Prozent. Schaut man allerdings auf die Gesamtanzahl aller gespielten Aufführungen, dann liegen die lebeden Komponisten bei nur noch 9 Prozent. Ist die Opernwelt im 19. Jahrhundert stehen geblieben?"
   ]
  },
  {
   "cell_type": "code",
   "execution_count": 166,
   "metadata": {},
   "outputs": [
    {
     "data": {
      "text/plain": [
       "66"
      ]
     },
     "execution_count": 166,
     "metadata": {},
     "output_type": "execute_result"
    }
   ],
   "source": [
    "composers = df[['Titel', 'Komponist_ber', 'Anzahl']]\n",
    "len(set(composers.Komponist_ber))"
   ]
  },
  {
   "cell_type": "code",
   "execution_count": 170,
   "metadata": {},
   "outputs": [
    {
     "data": {
      "text/html": [
       "<div>\n",
       "<style scoped>\n",
       "    .dataframe tbody tr th:only-of-type {\n",
       "        vertical-align: middle;\n",
       "    }\n",
       "\n",
       "    .dataframe tbody tr th {\n",
       "        vertical-align: top;\n",
       "    }\n",
       "\n",
       "    .dataframe thead th {\n",
       "        text-align: right;\n",
       "    }\n",
       "</style>\n",
       "<table border=\"1\" class=\"dataframe\">\n",
       "  <thead>\n",
       "    <tr style=\"text-align: right;\">\n",
       "      <th></th>\n",
       "      <th>Komponist_ber</th>\n",
       "    </tr>\n",
       "    <tr>\n",
       "      <th>Verstorben</th>\n",
       "      <th></th>\n",
       "    </tr>\n",
       "  </thead>\n",
       "  <tbody>\n",
       "    <tr>\n",
       "      <th>Tot</th>\n",
       "      <td>49</td>\n",
       "    </tr>\n",
       "    <tr>\n",
       "      <th>lebt</th>\n",
       "      <td>17</td>\n",
       "    </tr>\n",
       "  </tbody>\n",
       "</table>\n",
       "</div>"
      ],
      "text/plain": [
       "            Komponist_ber\n",
       "Verstorben               \n",
       "Tot                    49\n",
       "lebt                   17"
      ]
     },
     "execution_count": 170,
     "metadata": {},
     "output_type": "execute_result"
    }
   ],
   "source": [
    "# Anteil lebend / verstorben Anzeigen\n",
    "composers_alive = df[['Komponist_ber', 'Verstorben']]\n",
    "alive = composers_alive[composers_alive.Verstorben == 'lebt']\n",
    "composers_alive = composers_alive.drop_duplicates()\n",
    "composers_alive = composers_alive.groupby('Verstorben').count()\n",
    "composers_alive"
   ]
  },
  {
   "cell_type": "code",
   "execution_count": 171,
   "metadata": {},
   "outputs": [
    {
     "data": {
      "text/html": [
       "<div>\n",
       "<style scoped>\n",
       "    .dataframe tbody tr th:only-of-type {\n",
       "        vertical-align: middle;\n",
       "    }\n",
       "\n",
       "    .dataframe tbody tr th {\n",
       "        vertical-align: top;\n",
       "    }\n",
       "\n",
       "    .dataframe thead th {\n",
       "        text-align: right;\n",
       "    }\n",
       "</style>\n",
       "<table border=\"1\" class=\"dataframe\">\n",
       "  <thead>\n",
       "    <tr style=\"text-align: right;\">\n",
       "      <th></th>\n",
       "      <th>Komponist_ber</th>\n",
       "      <th>%</th>\n",
       "    </tr>\n",
       "    <tr>\n",
       "      <th>Verstorben</th>\n",
       "      <th></th>\n",
       "      <th></th>\n",
       "    </tr>\n",
       "  </thead>\n",
       "  <tbody>\n",
       "    <tr>\n",
       "      <th>Tot</th>\n",
       "      <td>49</td>\n",
       "      <td>74.0</td>\n",
       "    </tr>\n",
       "    <tr>\n",
       "      <th>lebt</th>\n",
       "      <td>17</td>\n",
       "      <td>26.0</td>\n",
       "    </tr>\n",
       "  </tbody>\n",
       "</table>\n",
       "</div>"
      ],
      "text/plain": [
       "            Komponist_ber     %\n",
       "Verstorben                     \n",
       "Tot                    49  74.0\n",
       "lebt                   17  26.0"
      ]
     },
     "execution_count": 171,
     "metadata": {},
     "output_type": "execute_result"
    }
   ],
   "source": [
    "# Prozente berechnen\n",
    "composers_alive['%']= composers_alive.Komponist_ber.apply(lambda x: round(x / composers_alive.Komponist_ber.sum() * 100))\n",
    "composers_alive"
   ]
  },
  {
   "cell_type": "code",
   "execution_count": 173,
   "metadata": {},
   "outputs": [
    {
     "data": {
      "text/html": [
       "<div>\n",
       "<style scoped>\n",
       "    .dataframe tbody tr th:only-of-type {\n",
       "        vertical-align: middle;\n",
       "    }\n",
       "\n",
       "    .dataframe tbody tr th {\n",
       "        vertical-align: top;\n",
       "    }\n",
       "\n",
       "    .dataframe thead th {\n",
       "        text-align: right;\n",
       "    }\n",
       "</style>\n",
       "<table border=\"1\" class=\"dataframe\">\n",
       "  <thead>\n",
       "    <tr style=\"text-align: right;\">\n",
       "      <th></th>\n",
       "      <th>Anzahl</th>\n",
       "    </tr>\n",
       "    <tr>\n",
       "      <th>Verstorben</th>\n",
       "      <th></th>\n",
       "    </tr>\n",
       "  </thead>\n",
       "  <tbody>\n",
       "    <tr>\n",
       "      <th>Tot</th>\n",
       "      <td>929</td>\n",
       "    </tr>\n",
       "    <tr>\n",
       "      <th>lebt</th>\n",
       "      <td>95</td>\n",
       "    </tr>\n",
       "  </tbody>\n",
       "</table>\n",
       "</div>"
      ],
      "text/plain": [
       "            Anzahl\n",
       "Verstorben        \n",
       "Tot            929\n",
       "lebt            95"
      ]
     },
     "execution_count": 173,
     "metadata": {},
     "output_type": "execute_result"
    }
   ],
   "source": [
    "# Anteil lebend / verstorben an Aufführungen berechnen \n",
    "composers_anzahl_verstorben = df[['Komponist_ber', 'Verstorben', 'Anzahl']]\n",
    "composers_anzahl_verstorben = composers_anzahl_verstorben.groupby('Verstorben').sum()\n",
    "composers_anzahl_verstorben"
   ]
  },
  {
   "cell_type": "code",
   "execution_count": 175,
   "metadata": {},
   "outputs": [
    {
     "data": {
      "text/html": [
       "<div>\n",
       "<style scoped>\n",
       "    .dataframe tbody tr th:only-of-type {\n",
       "        vertical-align: middle;\n",
       "    }\n",
       "\n",
       "    .dataframe tbody tr th {\n",
       "        vertical-align: top;\n",
       "    }\n",
       "\n",
       "    .dataframe thead th {\n",
       "        text-align: right;\n",
       "    }\n",
       "</style>\n",
       "<table border=\"1\" class=\"dataframe\">\n",
       "  <thead>\n",
       "    <tr style=\"text-align: right;\">\n",
       "      <th></th>\n",
       "      <th>Anzahl</th>\n",
       "      <th>%</th>\n",
       "    </tr>\n",
       "    <tr>\n",
       "      <th>Verstorben</th>\n",
       "      <th></th>\n",
       "      <th></th>\n",
       "    </tr>\n",
       "  </thead>\n",
       "  <tbody>\n",
       "    <tr>\n",
       "      <th>Tot</th>\n",
       "      <td>929</td>\n",
       "      <td>91.0</td>\n",
       "    </tr>\n",
       "    <tr>\n",
       "      <th>lebt</th>\n",
       "      <td>95</td>\n",
       "      <td>9.0</td>\n",
       "    </tr>\n",
       "  </tbody>\n",
       "</table>\n",
       "</div>"
      ],
      "text/plain": [
       "            Anzahl     %\n",
       "Verstorben              \n",
       "Tot            929  91.0\n",
       "lebt            95   9.0"
      ]
     },
     "execution_count": 175,
     "metadata": {},
     "output_type": "execute_result"
    }
   ],
   "source": [
    "# Prozente berechnen \n",
    "composers_anzahl_verstorben['%'] = composers_anzahl_verstorben.Anzahl.apply(lambda x: round(x / composers_anzahl_verstorben.Anzahl.sum() * 100))\n",
    "composers_anzahl_verstorben"
   ]
  },
  {
   "cell_type": "code",
   "execution_count": 176,
   "metadata": {},
   "outputs": [
    {
     "data": {
      "text/html": [
       "\n",
       "        <iframe\n",
       "            width=\"320\"\n",
       "            height=\"303\"\n",
       "            src=\"//datawrapper.dwcdn.net/6D2bM/4/\"\n",
       "            frameborder=\"0\"\n",
       "            allowfullscreen\n",
       "        ></iframe>\n",
       "        "
      ],
      "text/plain": [
       "<IPython.lib.display.IFrame at 0x7f5d60805d68>"
      ]
     },
     "execution_count": 176,
     "metadata": {},
     "output_type": "execute_result"
    }
   ],
   "source": [
    "# iFrame der fertigen Grafik \n",
    "IFrame('//datawrapper.dwcdn.net/6D2bM/4/', width='320', height='303')"
   ]
  },
  {
   "cell_type": "markdown",
   "metadata": {},
   "source": [
    "### Nuria Núñez Hierro ist die einzige Frau"
   ]
  },
  {
   "cell_type": "code",
   "execution_count": 184,
   "metadata": {},
   "outputs": [],
   "source": [
    "gender = df[['Komponist_ber', 'Geschlecht']]"
   ]
  },
  {
   "cell_type": "code",
   "execution_count": 185,
   "metadata": {},
   "outputs": [],
   "source": [
    "gender = gender.drop_duplicates()"
   ]
  },
  {
   "cell_type": "code",
   "execution_count": 186,
   "metadata": {},
   "outputs": [
    {
     "data": {
      "text/html": [
       "<div>\n",
       "<style scoped>\n",
       "    .dataframe tbody tr th:only-of-type {\n",
       "        vertical-align: middle;\n",
       "    }\n",
       "\n",
       "    .dataframe tbody tr th {\n",
       "        vertical-align: top;\n",
       "    }\n",
       "\n",
       "    .dataframe thead th {\n",
       "        text-align: right;\n",
       "    }\n",
       "</style>\n",
       "<table border=\"1\" class=\"dataframe\">\n",
       "  <thead>\n",
       "    <tr style=\"text-align: right;\">\n",
       "      <th></th>\n",
       "      <th>Komponist_ber</th>\n",
       "    </tr>\n",
       "    <tr>\n",
       "      <th>Geschlecht</th>\n",
       "      <th></th>\n",
       "    </tr>\n",
       "  </thead>\n",
       "  <tbody>\n",
       "    <tr>\n",
       "      <th>männlich</th>\n",
       "      <td>65</td>\n",
       "    </tr>\n",
       "    <tr>\n",
       "      <th>weiblich</th>\n",
       "      <td>1</td>\n",
       "    </tr>\n",
       "  </tbody>\n",
       "</table>\n",
       "</div>"
      ],
      "text/plain": [
       "            Komponist_ber\n",
       "Geschlecht               \n",
       "männlich               65\n",
       "weiblich                1"
      ]
     },
     "execution_count": 186,
     "metadata": {},
     "output_type": "execute_result"
    }
   ],
   "source": [
    "gender = gender.groupby('Geschlecht').count()\n",
    "gender"
   ]
  },
  {
   "cell_type": "code",
   "execution_count": 192,
   "metadata": {},
   "outputs": [
    {
     "data": {
      "text/html": [
       "<div>\n",
       "<style scoped>\n",
       "    .dataframe tbody tr th:only-of-type {\n",
       "        vertical-align: middle;\n",
       "    }\n",
       "\n",
       "    .dataframe tbody tr th {\n",
       "        vertical-align: top;\n",
       "    }\n",
       "\n",
       "    .dataframe thead th {\n",
       "        text-align: right;\n",
       "    }\n",
       "</style>\n",
       "<table border=\"1\" class=\"dataframe\">\n",
       "  <thead>\n",
       "    <tr style=\"text-align: right;\">\n",
       "      <th></th>\n",
       "      <th>Anzahl</th>\n",
       "    </tr>\n",
       "    <tr>\n",
       "      <th>Geschlecht</th>\n",
       "      <th></th>\n",
       "    </tr>\n",
       "  </thead>\n",
       "  <tbody>\n",
       "    <tr>\n",
       "      <th>männlich</th>\n",
       "      <td>1016</td>\n",
       "    </tr>\n",
       "    <tr>\n",
       "      <th>weiblich</th>\n",
       "      <td>8</td>\n",
       "    </tr>\n",
       "  </tbody>\n",
       "</table>\n",
       "</div>"
      ],
      "text/plain": [
       "            Anzahl\n",
       "Geschlecht        \n",
       "männlich      1016\n",
       "weiblich         8"
      ]
     },
     "execution_count": 192,
     "metadata": {},
     "output_type": "execute_result"
    }
   ],
   "source": [
    "gender_anzahl = df[['Komponist_ber', 'Geschlecht', 'Anzahl']]\n",
    "gender_anzahl = gender_anzahl.groupby('Geschlecht').sum()\n",
    "gender_anzahl"
   ]
  },
  {
   "cell_type": "code",
   "execution_count": 203,
   "metadata": {},
   "outputs": [
    {
     "data": {
      "text/plain": [
       "1"
      ]
     },
     "execution_count": 203,
     "metadata": {},
     "output_type": "execute_result"
    }
   ],
   "source": [
    "# Prozent berechnen \n",
    "round((8/1024)*100)"
   ]
  },
  {
   "cell_type": "code",
   "execution_count": 204,
   "metadata": {},
   "outputs": [
    {
     "data": {
      "text/plain": [
       "99"
      ]
     },
     "execution_count": 204,
     "metadata": {},
     "output_type": "execute_result"
    }
   ],
   "source": [
    "# Prozent berechnen \n",
    "round((1016/1024)*100)"
   ]
  },
  {
   "cell_type": "code",
   "execution_count": 205,
   "metadata": {},
   "outputs": [
    {
     "data": {
      "text/html": [
       "\n",
       "        <iframe\n",
       "            width=\"320\"\n",
       "            height=\"316\"\n",
       "            src=\"//datawrapper.dwcdn.net/T56o1/2/\"\n",
       "            frameborder=\"0\"\n",
       "            allowfullscreen\n",
       "        ></iframe>\n",
       "        "
      ],
      "text/plain": [
       "<IPython.lib.display.IFrame at 0x7f5d5ee70cc0>"
      ]
     },
     "execution_count": 205,
     "metadata": {},
     "output_type": "execute_result"
    }
   ],
   "source": [
    "# iFrame der fertigen Grafik \n",
    "IFrame('//datawrapper.dwcdn.net/T56o1/2/', width='320', height='316')"
   ]
  },
  {
   "cell_type": "markdown",
   "metadata": {},
   "source": [
    "### Herkunft \n",
    "Beim Blick auf die Herkunft der KomponistInnen liegt das Zentrum weiterhin klar in Europa."
   ]
  },
  {
   "cell_type": "code",
   "execution_count": 206,
   "metadata": {},
   "outputs": [
    {
     "data": {
      "text/plain": [
       "Index(['Spielstätte', 'Ort', 'Titel', 'Anzahl', 'Komponist', 'Komponist_ber',\n",
       "       'Geburtsort', 'Geschlecht', 'Geburtsjahr', 'Alter', 'Sterbedatum',\n",
       "       'Verstorben', 'Art', 'Bemerkung'],\n",
       "      dtype='object')"
      ]
     },
     "execution_count": 206,
     "metadata": {},
     "output_type": "execute_result"
    }
   ],
   "source": [
    "df.columns"
   ]
  },
  {
   "cell_type": "code",
   "execution_count": 211,
   "metadata": {},
   "outputs": [
    {
     "data": {
      "text/html": [
       "<div>\n",
       "<style scoped>\n",
       "    .dataframe tbody tr th:only-of-type {\n",
       "        vertical-align: middle;\n",
       "    }\n",
       "\n",
       "    .dataframe tbody tr th {\n",
       "        vertical-align: top;\n",
       "    }\n",
       "\n",
       "    .dataframe thead th {\n",
       "        text-align: right;\n",
       "    }\n",
       "</style>\n",
       "<table border=\"1\" class=\"dataframe\">\n",
       "  <thead>\n",
       "    <tr style=\"text-align: right;\">\n",
       "      <th></th>\n",
       "      <th>Komponist_ber</th>\n",
       "      <th>Geburtsort</th>\n",
       "    </tr>\n",
       "  </thead>\n",
       "  <tbody>\n",
       "    <tr>\n",
       "      <th>20</th>\n",
       "      <td>Aribert Reimann</td>\n",
       "      <td>Berlin</td>\n",
       "    </tr>\n",
       "  </tbody>\n",
       "</table>\n",
       "</div>"
      ],
      "text/plain": [
       "      Komponist_ber Geburtsort\n",
       "20  Aribert Reimann     Berlin"
      ]
     },
     "execution_count": 211,
     "metadata": {},
     "output_type": "execute_result"
    }
   ],
   "source": [
    "herkunft = df[['Komponist_ber', 'Geburtsort']]\n",
    "herkunft.sample()"
   ]
  },
  {
   "cell_type": "code",
   "execution_count": 212,
   "metadata": {},
   "outputs": [
    {
     "data": {
      "text/plain": [
       "(159, 2)"
      ]
     },
     "execution_count": 212,
     "metadata": {},
     "output_type": "execute_result"
    }
   ],
   "source": [
    "herkunft.shape"
   ]
  },
  {
   "cell_type": "code",
   "execution_count": 214,
   "metadata": {},
   "outputs": [],
   "source": [
    "herkunft = herkunft.drop_duplicates()"
   ]
  },
  {
   "cell_type": "code",
   "execution_count": 215,
   "metadata": {},
   "outputs": [
    {
     "data": {
      "text/plain": [
       "(66, 2)"
      ]
     },
     "execution_count": 215,
     "metadata": {},
     "output_type": "execute_result"
    }
   ],
   "source": [
    "herkunft.shape"
   ]
  },
  {
   "cell_type": "code",
   "execution_count": 216,
   "metadata": {},
   "outputs": [],
   "source": [
    "herkunft.to_clipboard()"
   ]
  },
  {
   "cell_type": "code",
   "execution_count": null,
   "metadata": {},
   "outputs": [],
   "source": [
    "-------------------------------------------------"
   ]
  },
  {
   "cell_type": "code",
   "execution_count": null,
   "metadata": {},
   "outputs": [],
   "source": []
  },
  {
   "cell_type": "code",
   "execution_count": null,
   "metadata": {},
   "outputs": [],
   "source": []
  },
  {
   "cell_type": "markdown",
   "metadata": {},
   "source": [
    "### Häuser und Anzahl der Aufführungen"
   ]
  },
  {
   "cell_type": "code",
   "execution_count": 10,
   "metadata": {},
   "outputs": [
    {
     "data": {
      "text/plain": [
       "Index(['Spielstätte', 'Ort', 'Titel', 'Anzahl', 'Komponist', 'Komponist_ber',\n",
       "       'Geburtsort', 'Geschlecht', 'Geburtsjahr', 'Alter', 'Sterbedatum',\n",
       "       'Verstorben', 'Art', 'Bemerkung'],\n",
       "      dtype='object')"
      ]
     },
     "execution_count": 10,
     "metadata": {},
     "output_type": "execute_result"
    }
   ],
   "source": [
    "df.columns"
   ]
  },
  {
   "cell_type": "code",
   "execution_count": 21,
   "metadata": {},
   "outputs": [],
   "source": [
    "häuser_anzahl = df.groupby(['Verstorben', 'Spielstätte' ]).sum().sort_values('Anzahl', ascending=False)"
   ]
  },
  {
   "cell_type": "code",
   "execution_count": 22,
   "metadata": {},
   "outputs": [
    {
     "data": {
      "text/plain": [
       "Index(['Anzahl', 'Geburtsjahr', 'Alter', 'Sterbedatum'], dtype='object')"
      ]
     },
     "execution_count": 22,
     "metadata": {},
     "output_type": "execute_result"
    }
   ],
   "source": [
    "häuser_anzahl.columns"
   ]
  },
  {
   "cell_type": "code",
   "execution_count": 23,
   "metadata": {},
   "outputs": [],
   "source": [
    "häuser_anzahl = häuser_anzahl[['Anzahl']]"
   ]
  },
  {
   "cell_type": "code",
   "execution_count": 24,
   "metadata": {},
   "outputs": [
    {
     "data": {
      "text/html": [
       "<div>\n",
       "<style scoped>\n",
       "    .dataframe tbody tr th:only-of-type {\n",
       "        vertical-align: middle;\n",
       "    }\n",
       "\n",
       "    .dataframe tbody tr th {\n",
       "        vertical-align: top;\n",
       "    }\n",
       "\n",
       "    .dataframe thead th {\n",
       "        text-align: right;\n",
       "    }\n",
       "</style>\n",
       "<table border=\"1\" class=\"dataframe\">\n",
       "  <thead>\n",
       "    <tr style=\"text-align: right;\">\n",
       "      <th></th>\n",
       "      <th></th>\n",
       "      <th>Anzahl</th>\n",
       "    </tr>\n",
       "    <tr>\n",
       "      <th>Verstorben</th>\n",
       "      <th>Spielstätte</th>\n",
       "      <th></th>\n",
       "    </tr>\n",
       "  </thead>\n",
       "  <tbody>\n",
       "    <tr>\n",
       "      <th rowspan=\"11\" valign=\"top\">Tot</th>\n",
       "      <th>Deutsche Oper am Rhein</th>\n",
       "      <td>197</td>\n",
       "    </tr>\n",
       "    <tr>\n",
       "      <th>Oper Köln</th>\n",
       "      <td>148</td>\n",
       "    </tr>\n",
       "    <tr>\n",
       "      <th>Theater/Oper/Schauspiel Bonn</th>\n",
       "      <td>85</td>\n",
       "    </tr>\n",
       "    <tr>\n",
       "      <th>Theater Hagen</th>\n",
       "      <td>74</td>\n",
       "    </tr>\n",
       "    <tr>\n",
       "      <th>Theater Krefeld Mönchengladbach</th>\n",
       "      <td>71</td>\n",
       "    </tr>\n",
       "    <tr>\n",
       "      <th>Musiktheater im Revier, Gelsenkirchen</th>\n",
       "      <td>69</td>\n",
       "    </tr>\n",
       "    <tr>\n",
       "      <th>Theater und Philharmoie Essen</th>\n",
       "      <td>69</td>\n",
       "    </tr>\n",
       "    <tr>\n",
       "      <th>Theater Aachen</th>\n",
       "      <td>68</td>\n",
       "    </tr>\n",
       "    <tr>\n",
       "      <th>Oper, Ballett und Junge Oper Dortmund</th>\n",
       "      <td>54</td>\n",
       "    </tr>\n",
       "    <tr>\n",
       "      <th>Wuppertaler Bühnen</th>\n",
       "      <td>44</td>\n",
       "    </tr>\n",
       "    <tr>\n",
       "      <th>Theater Bielefeld</th>\n",
       "      <td>40</td>\n",
       "    </tr>\n",
       "    <tr>\n",
       "      <th rowspan=\"5\" valign=\"top\">lebt</th>\n",
       "      <th>Deutsche Oper am Rhein</th>\n",
       "      <td>21</td>\n",
       "    </tr>\n",
       "    <tr>\n",
       "      <th>Theater/Oper/Schauspiel Bonn</th>\n",
       "      <td>20</td>\n",
       "    </tr>\n",
       "    <tr>\n",
       "      <th>Oper, Ballett und Junge Oper Dortmund</th>\n",
       "      <td>13</td>\n",
       "    </tr>\n",
       "    <tr>\n",
       "      <th>Theater Krefeld Mönchengladbach</th>\n",
       "      <td>11</td>\n",
       "    </tr>\n",
       "    <tr>\n",
       "      <th>Wuppertaler Bühnen</th>\n",
       "      <td>11</td>\n",
       "    </tr>\n",
       "    <tr>\n",
       "      <th>Tot</th>\n",
       "      <th>Stadttheater Minden</th>\n",
       "      <td>6</td>\n",
       "    </tr>\n",
       "    <tr>\n",
       "      <th rowspan=\"3\" valign=\"top\">lebt</th>\n",
       "      <th>Musiktheater im Revier, Gelsenkirchen</th>\n",
       "      <td>6</td>\n",
       "    </tr>\n",
       "    <tr>\n",
       "      <th>Theater Bielefeld</th>\n",
       "      <td>6</td>\n",
       "    </tr>\n",
       "    <tr>\n",
       "      <th>Theater und Philharmoie Essen</th>\n",
       "      <td>5</td>\n",
       "    </tr>\n",
       "    <tr>\n",
       "      <th>Tot</th>\n",
       "      <th>Theater Herford</th>\n",
       "      <td>4</td>\n",
       "    </tr>\n",
       "    <tr>\n",
       "      <th>lebt</th>\n",
       "      <th>Oper Köln</th>\n",
       "      <td>2</td>\n",
       "    </tr>\n",
       "  </tbody>\n",
       "</table>\n",
       "</div>"
      ],
      "text/plain": [
       "                                                  Anzahl\n",
       "Verstorben Spielstätte                                  \n",
       "Tot        Deutsche Oper am Rhein                    197\n",
       "           Oper Köln                                 148\n",
       "           Theater/Oper/Schauspiel Bonn               85\n",
       "           Theater Hagen                              74\n",
       "           Theater Krefeld Mönchengladbach            71\n",
       "           Musiktheater im Revier, Gelsenkirchen      69\n",
       "           Theater und Philharmoie Essen              69\n",
       "           Theater Aachen                             68\n",
       "           Oper, Ballett und Junge Oper Dortmund      54\n",
       "           Wuppertaler Bühnen                         44\n",
       "           Theater Bielefeld                          40\n",
       "lebt       Deutsche Oper am Rhein                     21\n",
       "           Theater/Oper/Schauspiel Bonn               20\n",
       "           Oper, Ballett und Junge Oper Dortmund      13\n",
       "           Theater Krefeld Mönchengladbach            11\n",
       "           Wuppertaler Bühnen                         11\n",
       "Tot        Stadttheater Minden                         6\n",
       "lebt       Musiktheater im Revier, Gelsenkirchen       6\n",
       "           Theater Bielefeld                           6\n",
       "           Theater und Philharmoie Essen               5\n",
       "Tot        Theater Herford                             4\n",
       "lebt       Oper Köln                                   2"
      ]
     },
     "execution_count": 24,
     "metadata": {},
     "output_type": "execute_result"
    }
   ],
   "source": [
    "häuser_anzahl"
   ]
  },
  {
   "cell_type": "code",
   "execution_count": 15,
   "metadata": {},
   "outputs": [],
   "source": [
    "häuser_anzahl.to_csv('01_häuser_anzahl.csv')"
   ]
  },
  {
   "cell_type": "code",
   "execution_count": 16,
   "metadata": {},
   "outputs": [
    {
     "data": {
      "text/html": [
       "\n",
       "        <iframe\n",
       "            width=\"320\"\n",
       "            height=\"518\"\n",
       "            src=\"//datawrapper.dwcdn.net/2gNYv/1/\"\n",
       "            frameborder=\"0\"\n",
       "            allowfullscreen\n",
       "        ></iframe>\n",
       "        "
      ],
      "text/plain": [
       "<IPython.lib.display.IFrame at 0x7f5d615cc160>"
      ]
     },
     "execution_count": 16,
     "metadata": {},
     "output_type": "execute_result"
    }
   ],
   "source": [
    "IFrame('//datawrapper.dwcdn.net/2gNYv/1/', width='320', height='518')"
   ]
  },
  {
   "cell_type": "markdown",
   "metadata": {},
   "source": [
    "### Anzahl der Aufführungen"
   ]
  },
  {
   "cell_type": "code",
   "execution_count": 99,
   "metadata": {
    "scrolled": false
   },
   "outputs": [
    {
     "data": {
      "image/png": "[encoded data removed]",
      "text/plain": [
       "<Figure size 432x288 with 1 Axes>"
      ]
     },
     "metadata": {
      "needs_background": "light"
     },
     "output_type": "display_data"
    }
   ],
   "source": [
    "stücke_anzahl.hist(bins=100)\n",
    "\n",
    "plt.savefig('./img/stuecke_anzahl_histogram.png')"
   ]
  },
  {
   "cell_type": "code",
   "execution_count": 100,
   "metadata": {},
   "outputs": [],
   "source": [
    "stücke_anzahl.to_csv('./csv/02_stuecke_anzahl.csv')"
   ]
  },
  {
   "cell_type": "code",
   "execution_count": 101,
   "metadata": {},
   "outputs": [],
   "source": [
    "stuecke_vs_anzahl = df[['Titel', 'Anzahl']]"
   ]
  },
  {
   "cell_type": "code",
   "execution_count": 102,
   "metadata": {},
   "outputs": [],
   "source": [
    "stuecke_vs_anzahl = stuecke_vs_anzahl.pivot_table(index='Titel',aggfunc=['count', 'sum'])"
   ]
  },
  {
   "cell_type": "code",
   "execution_count": 138,
   "metadata": {},
   "outputs": [
    {
     "data": {
      "text/html": [
       "<div>\n",
       "<style scoped>\n",
       "    .dataframe tbody tr th:only-of-type {\n",
       "        vertical-align: middle;\n",
       "    }\n",
       "\n",
       "    .dataframe tbody tr th {\n",
       "        vertical-align: top;\n",
       "    }\n",
       "\n",
       "    .dataframe thead tr th {\n",
       "        text-align: left;\n",
       "    }\n",
       "\n",
       "    .dataframe thead tr:last-of-type th {\n",
       "        text-align: right;\n",
       "    }\n",
       "</style>\n",
       "<table border=\"1\" class=\"dataframe\">\n",
       "  <thead>\n",
       "    <tr>\n",
       "      <th></th>\n",
       "      <th>count</th>\n",
       "      <th>sum</th>\n",
       "    </tr>\n",
       "    <tr>\n",
       "      <th></th>\n",
       "      <th>Anzahl</th>\n",
       "      <th>Anzahl</th>\n",
       "    </tr>\n",
       "    <tr>\n",
       "      <th>Titel</th>\n",
       "      <th></th>\n",
       "      <th></th>\n",
       "    </tr>\n",
       "  </thead>\n",
       "  <tbody>\n",
       "    <tr>\n",
       "      <th>Die Zauberflöte</th>\n",
       "      <td>7</td>\n",
       "      <td>76</td>\n",
       "    </tr>\n",
       "    <tr>\n",
       "      <th>Hänsel und Gretel</th>\n",
       "      <td>6</td>\n",
       "      <td>34</td>\n",
       "    </tr>\n",
       "    <tr>\n",
       "      <th>La Traviata</th>\n",
       "      <td>3</td>\n",
       "      <td>32</td>\n",
       "    </tr>\n",
       "    <tr>\n",
       "      <th>Das Land des Lächelns</th>\n",
       "      <td>2</td>\n",
       "      <td>26</td>\n",
       "    </tr>\n",
       "    <tr>\n",
       "      <th>Rusalka</th>\n",
       "      <td>3</td>\n",
       "      <td>21</td>\n",
       "    </tr>\n",
       "    <tr>\n",
       "      <th>Roméo et Juliette</th>\n",
       "      <td>2</td>\n",
       "      <td>20</td>\n",
       "    </tr>\n",
       "    <tr>\n",
       "      <th>La Grande-Duchesse de Géroldstein</th>\n",
       "      <td>2</td>\n",
       "      <td>19</td>\n",
       "    </tr>\n",
       "    <tr>\n",
       "      <th>Die Walküre</th>\n",
       "      <td>2</td>\n",
       "      <td>19</td>\n",
       "    </tr>\n",
       "    <tr>\n",
       "      <th>Nabucco</th>\n",
       "      <td>3</td>\n",
       "      <td>19</td>\n",
       "    </tr>\n",
       "    <tr>\n",
       "      <th>Xerxes</th>\n",
       "      <td>2</td>\n",
       "      <td>19</td>\n",
       "    </tr>\n",
       "  </tbody>\n",
       "</table>\n",
       "</div>"
      ],
      "text/plain": [
       "                                   count    sum\n",
       "                                  Anzahl Anzahl\n",
       "Titel                                          \n",
       "Die Zauberflöte                        7     76\n",
       "Hänsel und Gretel                      6     34\n",
       "La Traviata                            3     32\n",
       "Das Land des Lächelns                  2     26\n",
       "Rusalka                                3     21\n",
       "Roméo et Juliette                      2     20\n",
       "La Grande-Duchesse de Géroldstein      2     19\n",
       "Die Walküre                            2     19\n",
       "Nabucco                                3     19\n",
       "Xerxes                                 2     19"
      ]
     },
     "execution_count": 138,
     "metadata": {},
     "output_type": "execute_result"
    }
   ],
   "source": [
    "stuecke_vs_anzahl.sort_values([('sum', 'Anzahl')], ascending=False).head(10)"
   ]
  },
  {
   "cell_type": "code",
   "execution_count": 177,
   "metadata": {},
   "outputs": [
    {
     "data": {
      "text/html": [
       "\n",
       "        <iframe\n",
       "            width=\"320\"\n",
       "            height=\"2752\"\n",
       "            src=\"//datawrapper.dwcdn.net/azwpu/4/\"\n",
       "            frameborder=\"0\"\n",
       "            allowfullscreen\n",
       "        ></iframe>\n",
       "        "
      ],
      "text/plain": [
       "<IPython.lib.display.IFrame at 0x7f5d60805828>"
      ]
     },
     "execution_count": 177,
     "metadata": {},
     "output_type": "execute_result"
    }
   ],
   "source": [
    "IFrame('//datawrapper.dwcdn.net/azwpu/4/', width='320', height='2752')"
   ]
  },
  {
   "cell_type": "code",
   "execution_count": 104,
   "metadata": {},
   "outputs": [
    {
     "data": {
      "image/png": "[encoded data removed]",
      "text/plain": [
       "<Figure size 432x288 with 1 Axes>"
      ]
     },
     "metadata": {
      "needs_background": "light"
     },
     "output_type": "display_data"
    }
   ],
   "source": [
    "stuecke_vs_anzahl.plot.scatter(x=('sum', 'Anzahl'), y=('count', 'Anzahl'), c='DarkBlue')\n",
    "plt.savefig('./img/stuecke_vs_anzahl_scatter.png')"
   ]
  },
  {
   "cell_type": "code",
   "execution_count": 105,
   "metadata": {},
   "outputs": [],
   "source": [
    "stuecke_vs_anzahl.to_csv('./csv/03_stuecke_vs_anzahl.csv')"
   ]
  },
  {
   "cell_type": "markdown",
   "metadata": {},
   "source": [
    "## Stücke"
   ]
  },
  {
   "cell_type": "code",
   "execution_count": 139,
   "metadata": {},
   "outputs": [],
   "source": [
    "stücke = df[['Titel', 'Anzahl']]"
   ]
  },
  {
   "cell_type": "markdown",
   "metadata": {},
   "source": [
    "Stücke nach Titel gezählt: An wie vielen verschiedenen Häusern wurde die Zauberflöte gespielt?"
   ]
  },
  {
   "cell_type": "code",
   "execution_count": 140,
   "metadata": {},
   "outputs": [
    {
     "data": {
      "text/html": [
       "<div>\n",
       "<style scoped>\n",
       "    .dataframe tbody tr th:only-of-type {\n",
       "        vertical-align: middle;\n",
       "    }\n",
       "\n",
       "    .dataframe tbody tr th {\n",
       "        vertical-align: top;\n",
       "    }\n",
       "\n",
       "    .dataframe thead th {\n",
       "        text-align: right;\n",
       "    }\n",
       "</style>\n",
       "<table border=\"1\" class=\"dataframe\">\n",
       "  <thead>\n",
       "    <tr style=\"text-align: right;\">\n",
       "      <th></th>\n",
       "      <th>Anzahl</th>\n",
       "    </tr>\n",
       "    <tr>\n",
       "      <th>Titel</th>\n",
       "      <th></th>\n",
       "    </tr>\n",
       "  </thead>\n",
       "  <tbody>\n",
       "    <tr>\n",
       "      <th>Die Zauberflöte</th>\n",
       "      <td>7</td>\n",
       "    </tr>\n",
       "    <tr>\n",
       "      <th>Hänsel und Gretel</th>\n",
       "      <td>6</td>\n",
       "    </tr>\n",
       "    <tr>\n",
       "      <th>Tosca</th>\n",
       "      <td>5</td>\n",
       "    </tr>\n",
       "    <tr>\n",
       "      <th>La Traviata</th>\n",
       "      <td>3</td>\n",
       "    </tr>\n",
       "    <tr>\n",
       "      <th>Nabucco</th>\n",
       "      <td>3</td>\n",
       "    </tr>\n",
       "    <tr>\n",
       "      <th>Don Giovanni</th>\n",
       "      <td>3</td>\n",
       "    </tr>\n",
       "    <tr>\n",
       "      <th>Otello</th>\n",
       "      <td>3</td>\n",
       "    </tr>\n",
       "  </tbody>\n",
       "</table>\n",
       "</div>"
      ],
      "text/plain": [
       "                   Anzahl\n",
       "Titel                    \n",
       "Die Zauberflöte         7\n",
       "Hänsel und Gretel       6\n",
       "Tosca                   5\n",
       "La Traviata             3\n",
       "Nabucco                 3\n",
       "Don Giovanni            3\n",
       "Otello                  3"
      ]
     },
     "execution_count": 140,
     "metadata": {},
     "output_type": "execute_result"
    }
   ],
   "source": [
    "stücke_count = pd.pivot_table(stücke, index=['Titel'], aggfunc='count').sort_values('Anzahl', ascending=False).head(7)\n",
    "stücke_count"
   ]
  },
  {
   "cell_type": "code",
   "execution_count": 141,
   "metadata": {},
   "outputs": [],
   "source": [
    "stücke_count = stücke_count.sort_values('Anzahl')"
   ]
  },
  {
   "cell_type": "code",
   "execution_count": 142,
   "metadata": {},
   "outputs": [
    {
     "data": {
      "text/plain": [
       "<matplotlib.axes._subplots.AxesSubplot at 0x7f22c6edd1d0>"
      ]
     },
     "execution_count": 142,
     "metadata": {},
     "output_type": "execute_result"
    },
    {
     "data": {
      "image/png": "[encoded data removed]",
      "text/plain": [
       "<Figure size 432x288 with 1 Axes>"
      ]
     },
     "metadata": {
      "needs_background": "light"
     },
     "output_type": "display_data"
    }
   ],
   "source": [
    "stücke_count.plot(kind='barh', \n",
    "                 title='Zählt man die Inszenierungen, dann liegt \\ndie Zauberflöte vor Hänsel und Gretel',\n",
    "                 color='blue',\n",
    "                  legend=None\n",
    "                 )"
   ]
  },
  {
   "cell_type": "code",
   "execution_count": 143,
   "metadata": {},
   "outputs": [
    {
     "data": {
      "text/plain": [
       "<Figure size 432x288 with 0 Axes>"
      ]
     },
     "metadata": {},
     "output_type": "display_data"
    }
   ],
   "source": [
    "plt.savefig('./img/stücke_count.png')"
   ]
  },
  {
   "cell_type": "markdown",
   "metadata": {},
   "source": [
    "Wo überall wurde die Zauberflöte gespielt? "
   ]
  },
  {
   "cell_type": "code",
   "execution_count": 127,
   "metadata": {},
   "outputs": [
    {
     "data": {
      "text/html": [
       "<div>\n",
       "<style scoped>\n",
       "    .dataframe tbody tr th:only-of-type {\n",
       "        vertical-align: middle;\n",
       "    }\n",
       "\n",
       "    .dataframe tbody tr th {\n",
       "        vertical-align: top;\n",
       "    }\n",
       "\n",
       "    .dataframe thead th {\n",
       "        text-align: right;\n",
       "    }\n",
       "</style>\n",
       "<table border=\"1\" class=\"dataframe\">\n",
       "  <thead>\n",
       "    <tr style=\"text-align: right;\">\n",
       "      <th></th>\n",
       "      <th>Spielstätte</th>\n",
       "      <th>Ort</th>\n",
       "      <th>Titel</th>\n",
       "      <th>Anzahl</th>\n",
       "      <th>Komponist</th>\n",
       "      <th>Komponist_ber</th>\n",
       "      <th>Geburtsort</th>\n",
       "      <th>Geschlecht</th>\n",
       "      <th>Geburtsjahr</th>\n",
       "      <th>Alter</th>\n",
       "      <th>Sterbedatum</th>\n",
       "      <th>Verstorben</th>\n",
       "      <th>Art</th>\n",
       "      <th>Bemerkung</th>\n",
       "    </tr>\n",
       "  </thead>\n",
       "  <tbody>\n",
       "    <tr>\n",
       "      <th>135</th>\n",
       "      <td>Musiktheater im Revier, Gelsenkirchen</td>\n",
       "      <td>Gelsenkirchen</td>\n",
       "      <td>Schwanda der Dudelsackpfeifer</td>\n",
       "      <td>4</td>\n",
       "      <td>Jaromír Weinberger</td>\n",
       "      <td>Jaromír Weinberger</td>\n",
       "      <td>Prag</td>\n",
       "      <td>männlich</td>\n",
       "      <td>1896</td>\n",
       "      <td>123</td>\n",
       "      <td>1967</td>\n",
       "      <td>Tot</td>\n",
       "      <td>premieren</td>\n",
       "      <td>NaN</td>\n",
       "    </tr>\n",
       "  </tbody>\n",
       "</table>\n",
       "</div>"
      ],
      "text/plain": [
       "                               Spielstätte            Ort  \\\n",
       "135  Musiktheater im Revier, Gelsenkirchen  Gelsenkirchen   \n",
       "\n",
       "                             Titel  Anzahl           Komponist  \\\n",
       "135  Schwanda der Dudelsackpfeifer       4  Jaromír Weinberger   \n",
       "\n",
       "          Komponist_ber Geburtsort Geschlecht  Geburtsjahr  Alter  \\\n",
       "135  Jaromír Weinberger       Prag   männlich         1896    123   \n",
       "\n",
       "     Sterbedatum Verstorben        Art Bemerkung  \n",
       "135         1967        Tot  premieren       NaN  "
      ]
     },
     "execution_count": 127,
     "metadata": {},
     "output_type": "execute_result"
    }
   ],
   "source": [
    "df.sample()"
   ]
  },
  {
   "cell_type": "code",
   "execution_count": 128,
   "metadata": {},
   "outputs": [],
   "source": [
    "zauberflöte = df[df.Titel == 'Die Zauberflöte']"
   ]
  },
  {
   "cell_type": "code",
   "execution_count": 129,
   "metadata": {},
   "outputs": [
    {
     "data": {
      "text/html": [
       "<div>\n",
       "<style scoped>\n",
       "    .dataframe tbody tr th:only-of-type {\n",
       "        vertical-align: middle;\n",
       "    }\n",
       "\n",
       "    .dataframe tbody tr th {\n",
       "        vertical-align: top;\n",
       "    }\n",
       "\n",
       "    .dataframe thead th {\n",
       "        text-align: right;\n",
       "    }\n",
       "</style>\n",
       "<table border=\"1\" class=\"dataframe\">\n",
       "  <thead>\n",
       "    <tr style=\"text-align: right;\">\n",
       "      <th></th>\n",
       "      <th>Anzahl</th>\n",
       "      <th>Geburtsjahr</th>\n",
       "      <th>Alter</th>\n",
       "      <th>Sterbedatum</th>\n",
       "    </tr>\n",
       "    <tr>\n",
       "      <th>Spielstätte</th>\n",
       "      <th></th>\n",
       "      <th></th>\n",
       "      <th></th>\n",
       "      <th></th>\n",
       "    </tr>\n",
       "  </thead>\n",
       "  <tbody>\n",
       "    <tr>\n",
       "      <th>Deutsche Oper am Rhein</th>\n",
       "      <td>34</td>\n",
       "      <td>3512</td>\n",
       "      <td>526</td>\n",
       "      <td>3582</td>\n",
       "    </tr>\n",
       "    <tr>\n",
       "      <th>Oper Köln</th>\n",
       "      <td>15</td>\n",
       "      <td>1756</td>\n",
       "      <td>263</td>\n",
       "      <td>1791</td>\n",
       "    </tr>\n",
       "    <tr>\n",
       "      <th>Theater Bielefeld</th>\n",
       "      <td>4</td>\n",
       "      <td>1756</td>\n",
       "      <td>263</td>\n",
       "      <td>1791</td>\n",
       "    </tr>\n",
       "    <tr>\n",
       "      <th>Theater Krefeld Mönchengladbach</th>\n",
       "      <td>12</td>\n",
       "      <td>1756</td>\n",
       "      <td>263</td>\n",
       "      <td>1791</td>\n",
       "    </tr>\n",
       "    <tr>\n",
       "      <th>Theater und Philharmoie Essen</th>\n",
       "      <td>5</td>\n",
       "      <td>1756</td>\n",
       "      <td>263</td>\n",
       "      <td>1791</td>\n",
       "    </tr>\n",
       "    <tr>\n",
       "      <th>Theater/Oper/Schauspiel Bonn</th>\n",
       "      <td>6</td>\n",
       "      <td>1756</td>\n",
       "      <td>263</td>\n",
       "      <td>1791</td>\n",
       "    </tr>\n",
       "  </tbody>\n",
       "</table>\n",
       "</div>"
      ],
      "text/plain": [
       "                                 Anzahl  Geburtsjahr  Alter  Sterbedatum\n",
       "Spielstätte                                                             \n",
       "Deutsche Oper am Rhein               34         3512    526         3582\n",
       "Oper Köln                            15         1756    263         1791\n",
       "Theater Bielefeld                     4         1756    263         1791\n",
       "Theater Krefeld Mönchengladbach      12         1756    263         1791\n",
       "Theater und Philharmoie Essen         5         1756    263         1791\n",
       "Theater/Oper/Schauspiel Bonn          6         1756    263         1791"
      ]
     },
     "execution_count": 129,
     "metadata": {},
     "output_type": "execute_result"
    }
   ],
   "source": [
    "zauberflöte.groupby('Spielstätte').sum()"
   ]
  },
  {
   "cell_type": "code",
   "execution_count": 130,
   "metadata": {},
   "outputs": [
    {
     "data": {
      "text/plain": [
       "Index(['Spielstätte', 'Ort', 'Titel', 'Anzahl', 'Komponist', 'Komponist_ber',\n",
       "       'Geburtsort', 'Geschlecht', 'Geburtsjahr', 'Alter', 'Sterbedatum',\n",
       "       'Verstorben', 'Art', 'Bemerkung'],\n",
       "      dtype='object')"
      ]
     },
     "execution_count": 130,
     "metadata": {},
     "output_type": "execute_result"
    }
   ],
   "source": [
    "zauberflöte.columns"
   ]
  },
  {
   "cell_type": "code",
   "execution_count": 131,
   "metadata": {},
   "outputs": [],
   "source": [
    "zauberflöte = zauberflöte[['Spielstätte', 'Ort', 'Anzahl']]"
   ]
  },
  {
   "cell_type": "code",
   "execution_count": 132,
   "metadata": {},
   "outputs": [],
   "source": [
    "zauerflöte = zauberflöte.groupby('Ort').sum()"
   ]
  },
  {
   "cell_type": "code",
   "execution_count": 144,
   "metadata": {},
   "outputs": [
    {
     "data": {
      "text/html": [
       "<div>\n",
       "<style scoped>\n",
       "    .dataframe tbody tr th:only-of-type {\n",
       "        vertical-align: middle;\n",
       "    }\n",
       "\n",
       "    .dataframe tbody tr th {\n",
       "        vertical-align: top;\n",
       "    }\n",
       "\n",
       "    .dataframe thead th {\n",
       "        text-align: right;\n",
       "    }\n",
       "</style>\n",
       "<table border=\"1\" class=\"dataframe\">\n",
       "  <thead>\n",
       "    <tr style=\"text-align: right;\">\n",
       "      <th></th>\n",
       "      <th>Spielstätte</th>\n",
       "      <th>Ort</th>\n",
       "      <th>Anzahl</th>\n",
       "    </tr>\n",
       "  </thead>\n",
       "  <tbody>\n",
       "    <tr>\n",
       "      <th>38</th>\n",
       "      <td>Oper Köln</td>\n",
       "      <td>Köln</td>\n",
       "      <td>15</td>\n",
       "    </tr>\n",
       "    <tr>\n",
       "      <th>39</th>\n",
       "      <td>Deutsche Oper am Rhein</td>\n",
       "      <td>Düsseldorf/Duisburg</td>\n",
       "      <td>21</td>\n",
       "    </tr>\n",
       "    <tr>\n",
       "      <th>40</th>\n",
       "      <td>Theater Bielefeld</td>\n",
       "      <td>Bielefeld</td>\n",
       "      <td>4</td>\n",
       "    </tr>\n",
       "    <tr>\n",
       "      <th>41</th>\n",
       "      <td>Theater/Oper/Schauspiel Bonn</td>\n",
       "      <td>Bonn</td>\n",
       "      <td>6</td>\n",
       "    </tr>\n",
       "    <tr>\n",
       "      <th>42</th>\n",
       "      <td>Deutsche Oper am Rhein</td>\n",
       "      <td>Düsseldorf/Duisburg</td>\n",
       "      <td>13</td>\n",
       "    </tr>\n",
       "    <tr>\n",
       "      <th>43</th>\n",
       "      <td>Theater und Philharmoie Essen</td>\n",
       "      <td>Essen</td>\n",
       "      <td>5</td>\n",
       "    </tr>\n",
       "    <tr>\n",
       "      <th>44</th>\n",
       "      <td>Theater Krefeld Mönchengladbach</td>\n",
       "      <td>Krefeld/Mönchengladbach</td>\n",
       "      <td>12</td>\n",
       "    </tr>\n",
       "  </tbody>\n",
       "</table>\n",
       "</div>"
      ],
      "text/plain": [
       "                        Spielstätte                      Ort  Anzahl\n",
       "38                        Oper Köln                     Köln      15\n",
       "39           Deutsche Oper am Rhein      Düsseldorf/Duisburg      21\n",
       "40                Theater Bielefeld                Bielefeld       4\n",
       "41     Theater/Oper/Schauspiel Bonn                     Bonn       6\n",
       "42           Deutsche Oper am Rhein      Düsseldorf/Duisburg      13\n",
       "43    Theater und Philharmoie Essen                    Essen       5\n",
       "44  Theater Krefeld Mönchengladbach  Krefeld/Mönchengladbach      12"
      ]
     },
     "execution_count": 144,
     "metadata": {},
     "output_type": "execute_result"
    }
   ],
   "source": [
    "zauberflöte"
   ]
  },
  {
   "cell_type": "code",
   "execution_count": 133,
   "metadata": {},
   "outputs": [],
   "source": [
    "zauberflöte.to_clipboard('./csv/03_zauberfloete.csv', sep=',', encoding='utf-8')"
   ]
  },
  {
   "cell_type": "code",
   "execution_count": 148,
   "metadata": {},
   "outputs": [
    {
     "data": {
      "text/html": [
       "\n",
       "        <iframe\n",
       "            width=\"400\"\n",
       "            height=\"350\"\n",
       "            src=\"//datawrapper.dwcdn.net/rAI3d/13/\"\n",
       "            frameborder=\"0\"\n",
       "            allowfullscreen\n",
       "        ></iframe>\n",
       "        "
      ],
      "text/plain": [
       "<IPython.lib.display.IFrame at 0x7f22c9009d30>"
      ]
     },
     "execution_count": 148,
     "metadata": {},
     "output_type": "execute_result"
    }
   ],
   "source": [
    "IFrame('//datawrapper.dwcdn.net/rAI3d/13/', width='400', height='350')"
   ]
  },
  {
   "cell_type": "markdown",
   "metadata": {},
   "source": [
    "#### Stücke und Orte"
   ]
  },
  {
   "cell_type": "code",
   "execution_count": 134,
   "metadata": {},
   "outputs": [],
   "source": [
    "stücke_orte = df[['Ort', 'Titel', 'Anzahl']]"
   ]
  },
  {
   "cell_type": "code",
   "execution_count": 135,
   "metadata": {},
   "outputs": [
    {
     "data": {
      "text/html": [
       "<div>\n",
       "<style scoped>\n",
       "    .dataframe tbody tr th:only-of-type {\n",
       "        vertical-align: middle;\n",
       "    }\n",
       "\n",
       "    .dataframe tbody tr th {\n",
       "        vertical-align: top;\n",
       "    }\n",
       "\n",
       "    .dataframe thead th {\n",
       "        text-align: right;\n",
       "    }\n",
       "</style>\n",
       "<table border=\"1\" class=\"dataframe\">\n",
       "  <thead>\n",
       "    <tr style=\"text-align: right;\">\n",
       "      <th></th>\n",
       "      <th>Ort</th>\n",
       "      <th>Titel</th>\n",
       "      <th>Anzahl</th>\n",
       "    </tr>\n",
       "  </thead>\n",
       "  <tbody>\n",
       "    <tr>\n",
       "      <th>39</th>\n",
       "      <td>Düsseldorf/Duisburg</td>\n",
       "      <td>Die Zauberflöte</td>\n",
       "      <td>21</td>\n",
       "    </tr>\n",
       "    <tr>\n",
       "      <th>36</th>\n",
       "      <td>Köln</td>\n",
       "      <td>Die Walküre</td>\n",
       "      <td>17</td>\n",
       "    </tr>\n",
       "    <tr>\n",
       "      <th>16</th>\n",
       "      <td>Dortmund</td>\n",
       "      <td>Das Land des Lächelns</td>\n",
       "      <td>16</td>\n",
       "    </tr>\n",
       "    <tr>\n",
       "      <th>38</th>\n",
       "      <td>Köln</td>\n",
       "      <td>Die Zauberflöte</td>\n",
       "      <td>15</td>\n",
       "    </tr>\n",
       "    <tr>\n",
       "      <th>74</th>\n",
       "      <td>Köln</td>\n",
       "      <td>Im weißen Rössel</td>\n",
       "      <td>15</td>\n",
       "    </tr>\n",
       "  </tbody>\n",
       "</table>\n",
       "</div>"
      ],
      "text/plain": [
       "                    Ort                  Titel  Anzahl\n",
       "39  Düsseldorf/Duisburg        Die Zauberflöte      21\n",
       "36                 Köln            Die Walküre      17\n",
       "16             Dortmund  Das Land des Lächelns      16\n",
       "38                 Köln        Die Zauberflöte      15\n",
       "74                 Köln       Im weißen Rössel      15"
      ]
     },
     "execution_count": 135,
     "metadata": {},
     "output_type": "execute_result"
    }
   ],
   "source": [
    "# Wo wurde welches Stück am meisten gespielt? \n",
    "stücke_orte.sort_values('Anzahl', ascending=False).head()"
   ]
  },
  {
   "cell_type": "markdown",
   "metadata": {},
   "source": [
    "### Komponisten"
   ]
  },
  {
   "cell_type": "markdown",
   "metadata": {},
   "source": [
    "#### Lebensdaten der Komponisten\n",
    "\n",
    "Die Grafik zeigt die Lebensdaten der 66 Komponist*innen auf einen Blick. "
   ]
  },
  {
   "cell_type": "code",
   "execution_count": 117,
   "metadata": {},
   "outputs": [
    {
     "data": {
      "text/plain": [
       "Index(['Spielstätte', 'Ort', 'Titel', 'Anzahl', 'Komponist', 'Komponist_ber',\n",
       "       'Geburtsort', 'Geschlecht', 'Geburtsjahr', 'Alter', 'Sterbedatum',\n",
       "       'Verstorben', 'Art', 'Bemerkung', 'Zauberflöte'],\n",
       "      dtype='object')"
      ]
     },
     "execution_count": 117,
     "metadata": {},
     "output_type": "execute_result"
    }
   ],
   "source": [
    "df.columns"
   ]
  },
  {
   "cell_type": "code",
   "execution_count": 118,
   "metadata": {},
   "outputs": [],
   "source": [
    "lebensdaten = df[['Komponist_ber', 'Geburtsjahr', 'Sterbedatum']]"
   ]
  },
  {
   "cell_type": "code",
   "execution_count": 119,
   "metadata": {},
   "outputs": [],
   "source": [
    "lebensdaten = lebensdaten.drop_duplicates()"
   ]
  },
  {
   "cell_type": "code",
   "execution_count": 120,
   "metadata": {},
   "outputs": [],
   "source": [
    "lebensdaten.Sterbedatum = lebensdaten.Sterbedatum.apply(lambda x: 2019 if x== 0 else x)"
   ]
  },
  {
   "cell_type": "code",
   "execution_count": 121,
   "metadata": {},
   "outputs": [],
   "source": [
    "lebensdaten = lebensdaten[lebensdaten.Geburtsjahr > 0]"
   ]
  },
  {
   "cell_type": "code",
   "execution_count": 122,
   "metadata": {},
   "outputs": [],
   "source": [
    "lebensdaten.rename(columns={'Sterbedatum': 'Sterbejahr'}, inplace=True)"
   ]
  },
  {
   "cell_type": "code",
   "execution_count": 123,
   "metadata": {},
   "outputs": [],
   "source": [
    "lebensdaten = lebensdaten.sort_values('Geburtsjahr')"
   ]
  },
  {
   "cell_type": "code",
   "execution_count": 124,
   "metadata": {},
   "outputs": [],
   "source": [
    "lebensdaten[\"type\"] = \"range\""
   ]
  },
  {
   "cell_type": "code",
   "execution_count": 125,
   "metadata": {},
   "outputs": [
    {
     "data": {
      "text/html": [
       "<div>\n",
       "<style scoped>\n",
       "    .dataframe tbody tr th:only-of-type {\n",
       "        vertical-align: middle;\n",
       "    }\n",
       "\n",
       "    .dataframe tbody tr th {\n",
       "        vertical-align: top;\n",
       "    }\n",
       "\n",
       "    .dataframe thead th {\n",
       "        text-align: right;\n",
       "    }\n",
       "</style>\n",
       "<table border=\"1\" class=\"dataframe\">\n",
       "  <thead>\n",
       "    <tr style=\"text-align: right;\">\n",
       "      <th></th>\n",
       "      <th>Komponist_ber</th>\n",
       "      <th>Geburtsjahr</th>\n",
       "      <th>Sterbejahr</th>\n",
       "      <th>type</th>\n",
       "    </tr>\n",
       "  </thead>\n",
       "  <tbody>\n",
       "    <tr>\n",
       "      <th>3</th>\n",
       "      <td>Johann Christian Bach</td>\n",
       "      <td>1735</td>\n",
       "      <td>1782</td>\n",
       "      <td>range</td>\n",
       "    </tr>\n",
       "  </tbody>\n",
       "</table>\n",
       "</div>"
      ],
      "text/plain": [
       "           Komponist_ber  Geburtsjahr  Sterbejahr   type\n",
       "3  Johann Christian Bach         1735        1782  range"
      ]
     },
     "execution_count": 125,
     "metadata": {},
     "output_type": "execute_result"
    }
   ],
   "source": [
    "lebensdaten.sample()"
   ]
  },
  {
   "cell_type": "code",
   "execution_count": 127,
   "metadata": {},
   "outputs": [],
   "source": [
    "lebensdaten.to_json('lebensdaten.json', orient='records')"
   ]
  },
  {
   "cell_type": "code",
   "execution_count": 100,
   "metadata": {},
   "outputs": [],
   "source": []
  },
  {
   "cell_type": "markdown",
   "metadata": {},
   "source": [
    "#### Meistgespielte anhand Anzahl der Aufführungen"
   ]
  },
  {
   "cell_type": "code",
   "execution_count": 42,
   "metadata": {},
   "outputs": [],
   "source": [
    "composers_count = pd.pivot_table(composers, index=['Komponist_ber'], aggfunc='sum').sort_values(by='Anzahl', ascending=False)"
   ]
  },
  {
   "cell_type": "code",
   "execution_count": 43,
   "metadata": {},
   "outputs": [
    {
     "data": {
      "text/html": [
       "<div>\n",
       "<style scoped>\n",
       "    .dataframe tbody tr th:only-of-type {\n",
       "        vertical-align: middle;\n",
       "    }\n",
       "\n",
       "    .dataframe tbody tr th {\n",
       "        vertical-align: top;\n",
       "    }\n",
       "\n",
       "    .dataframe thead th {\n",
       "        text-align: right;\n",
       "    }\n",
       "</style>\n",
       "<table border=\"1\" class=\"dataframe\">\n",
       "  <thead>\n",
       "    <tr style=\"text-align: right;\">\n",
       "      <th></th>\n",
       "      <th>Anzahl</th>\n",
       "    </tr>\n",
       "    <tr>\n",
       "      <th>Komponist_ber</th>\n",
       "      <th></th>\n",
       "    </tr>\n",
       "  </thead>\n",
       "  <tbody>\n",
       "    <tr>\n",
       "      <th>Giuseppe Verdi</th>\n",
       "      <td>143</td>\n",
       "    </tr>\n",
       "    <tr>\n",
       "      <th>Wolfgang Amadeus Mozart</th>\n",
       "      <td>118</td>\n",
       "    </tr>\n",
       "    <tr>\n",
       "      <th>Richard Wagner</th>\n",
       "      <td>68</td>\n",
       "    </tr>\n",
       "    <tr>\n",
       "      <th>Jacques Offenbach</th>\n",
       "      <td>59</td>\n",
       "    </tr>\n",
       "    <tr>\n",
       "      <th>Giacomo Puccini</th>\n",
       "      <td>43</td>\n",
       "    </tr>\n",
       "    <tr>\n",
       "      <th>Engelbert Humperdinck</th>\n",
       "      <td>42</td>\n",
       "    </tr>\n",
       "    <tr>\n",
       "      <th>Leonard Bernstein</th>\n",
       "      <td>32</td>\n",
       "    </tr>\n",
       "    <tr>\n",
       "      <th>Richard Strauss</th>\n",
       "      <td>30</td>\n",
       "    </tr>\n",
       "    <tr>\n",
       "      <th>Franz Lehár</th>\n",
       "      <td>29</td>\n",
       "    </tr>\n",
       "    <tr>\n",
       "      <th>Gioachino Rossini</th>\n",
       "      <td>28</td>\n",
       "    </tr>\n",
       "  </tbody>\n",
       "</table>\n",
       "</div>"
      ],
      "text/plain": [
       "                         Anzahl\n",
       "Komponist_ber                  \n",
       "Giuseppe Verdi              143\n",
       "Wolfgang Amadeus Mozart     118\n",
       "Richard Wagner               68\n",
       "Jacques Offenbach            59\n",
       "Giacomo Puccini              43\n",
       "Engelbert Humperdinck        42\n",
       "Leonard Bernstein            32\n",
       "Richard Strauss              30\n",
       "Franz Lehár                  29\n",
       "Gioachino Rossini            28"
      ]
     },
     "execution_count": 43,
     "metadata": {},
     "output_type": "execute_result"
    }
   ],
   "source": [
    "composers_count.head(10)"
   ]
  },
  {
   "cell_type": "code",
   "execution_count": 63,
   "metadata": {},
   "outputs": [
    {
     "data": {
      "text/html": [
       "<div>\n",
       "<style scoped>\n",
       "    .dataframe tbody tr th:only-of-type {\n",
       "        vertical-align: middle;\n",
       "    }\n",
       "\n",
       "    .dataframe tbody tr th {\n",
       "        vertical-align: top;\n",
       "    }\n",
       "\n",
       "    .dataframe thead th {\n",
       "        text-align: right;\n",
       "    }\n",
       "</style>\n",
       "<table border=\"1\" class=\"dataframe\">\n",
       "  <thead>\n",
       "    <tr style=\"text-align: right;\">\n",
       "      <th></th>\n",
       "      <th>Anzahl</th>\n",
       "    </tr>\n",
       "    <tr>\n",
       "      <th>Komponist_ber</th>\n",
       "      <th></th>\n",
       "    </tr>\n",
       "  </thead>\n",
       "  <tbody>\n",
       "    <tr>\n",
       "      <th>Frank Engel</th>\n",
       "      <td>1</td>\n",
       "    </tr>\n",
       "    <tr>\n",
       "      <th>Dirk Heidicke</th>\n",
       "      <td>1</td>\n",
       "    </tr>\n",
       "    <tr>\n",
       "      <th>Fons Merkies</th>\n",
       "      <td>1</td>\n",
       "    </tr>\n",
       "    <tr>\n",
       "      <th>Wilfried Hiller</th>\n",
       "      <td>1</td>\n",
       "    </tr>\n",
       "    <tr>\n",
       "      <th>Friedrich von Flotow</th>\n",
       "      <td>1</td>\n",
       "    </tr>\n",
       "  </tbody>\n",
       "</table>\n",
       "</div>"
      ],
      "text/plain": [
       "                      Anzahl\n",
       "Komponist_ber               \n",
       "Frank Engel                1\n",
       "Dirk Heidicke              1\n",
       "Fons Merkies               1\n",
       "Wilfried Hiller            1\n",
       "Friedrich von Flotow       1"
      ]
     },
     "execution_count": 63,
     "metadata": {},
     "output_type": "execute_result"
    }
   ],
   "source": [
    "composers_count.tail()"
   ]
  },
  {
   "cell_type": "code",
   "execution_count": 157,
   "metadata": {},
   "outputs": [
    {
     "data": {
      "text/plain": [
       "452"
      ]
     },
     "execution_count": 157,
     "metadata": {},
     "output_type": "execute_result"
    }
   ],
   "source": [
    "composers_age.Alter.max()"
   ]
  },
  {
   "cell_type": "code",
   "execution_count": 158,
   "metadata": {},
   "outputs": [],
   "source": [
    "composers_age = composers_age.sort_values(by='Alter', ascending=False)"
   ]
  },
  {
   "cell_type": "code",
   "execution_count": 159,
   "metadata": {},
   "outputs": [],
   "source": [
    "composers_age = composers_age.drop_duplicates()"
   ]
  },
  {
   "cell_type": "code",
   "execution_count": 160,
   "metadata": {},
   "outputs": [
    {
     "data": {
      "text/html": [
       "<div>\n",
       "<style scoped>\n",
       "    .dataframe tbody tr th:only-of-type {\n",
       "        vertical-align: middle;\n",
       "    }\n",
       "\n",
       "    .dataframe tbody tr th {\n",
       "        vertical-align: top;\n",
       "    }\n",
       "\n",
       "    .dataframe thead th {\n",
       "        text-align: right;\n",
       "    }\n",
       "</style>\n",
       "<table border=\"1\" class=\"dataframe\">\n",
       "  <thead>\n",
       "    <tr style=\"text-align: right;\">\n",
       "      <th></th>\n",
       "      <th>Komponist_ber</th>\n",
       "      <th>Alter</th>\n",
       "    </tr>\n",
       "  </thead>\n",
       "  <tbody>\n",
       "    <tr>\n",
       "      <th>11</th>\n",
       "      <td>Claudio Monteverdi</td>\n",
       "      <td>452</td>\n",
       "    </tr>\n",
       "    <tr>\n",
       "      <th>152</th>\n",
       "      <td>Henry Purcell</td>\n",
       "      <td>360</td>\n",
       "    </tr>\n",
       "    <tr>\n",
       "      <th>158</th>\n",
       "      <td>Georg Friedrich Händel</td>\n",
       "      <td>334</td>\n",
       "    </tr>\n",
       "    <tr>\n",
       "      <th>3</th>\n",
       "      <td>Johann Christian Bach</td>\n",
       "      <td>284</td>\n",
       "    </tr>\n",
       "    <tr>\n",
       "      <th>88</th>\n",
       "      <td>Antonio Salieri</td>\n",
       "      <td>269</td>\n",
       "    </tr>\n",
       "  </tbody>\n",
       "</table>\n",
       "</div>"
      ],
      "text/plain": [
       "              Komponist_ber  Alter\n",
       "11       Claudio Monteverdi    452\n",
       "152           Henry Purcell    360\n",
       "158  Georg Friedrich Händel    334\n",
       "3     Johann Christian Bach    284\n",
       "88          Antonio Salieri    269"
      ]
     },
     "execution_count": 160,
     "metadata": {},
     "output_type": "execute_result"
    }
   ],
   "source": [
    "composers_age.head()"
   ]
  },
  {
   "cell_type": "code",
   "execution_count": 161,
   "metadata": {},
   "outputs": [
    {
     "data": {
      "text/html": [
       "<div>\n",
       "<style scoped>\n",
       "    .dataframe tbody tr th:only-of-type {\n",
       "        vertical-align: middle;\n",
       "    }\n",
       "\n",
       "    .dataframe tbody tr th {\n",
       "        vertical-align: top;\n",
       "    }\n",
       "\n",
       "    .dataframe thead th {\n",
       "        text-align: right;\n",
       "    }\n",
       "</style>\n",
       "<table border=\"1\" class=\"dataframe\">\n",
       "  <thead>\n",
       "    <tr style=\"text-align: right;\">\n",
       "      <th></th>\n",
       "      <th>Komponist_ber</th>\n",
       "      <th>Alter</th>\n",
       "    </tr>\n",
       "  </thead>\n",
       "  <tbody>\n",
       "    <tr>\n",
       "      <th>134</th>\n",
       "      <td>Anno Schreier</td>\n",
       "      <td>40</td>\n",
       "    </tr>\n",
       "    <tr>\n",
       "      <th>150</th>\n",
       "      <td>Moritz Anthes</td>\n",
       "      <td>39</td>\n",
       "    </tr>\n",
       "    <tr>\n",
       "      <th>79</th>\n",
       "      <td>Nuñez Hierro</td>\n",
       "      <td>39</td>\n",
       "    </tr>\n",
       "    <tr>\n",
       "      <th>58</th>\n",
       "      <td>Leonard Evers</td>\n",
       "      <td>34</td>\n",
       "    </tr>\n",
       "    <tr>\n",
       "      <th>114</th>\n",
       "      <td>Dirk Heidicke</td>\n",
       "      <td>0</td>\n",
       "    </tr>\n",
       "  </tbody>\n",
       "</table>\n",
       "</div>"
      ],
      "text/plain": [
       "     Komponist_ber  Alter\n",
       "134  Anno Schreier     40\n",
       "150  Moritz Anthes     39\n",
       "79    Nuñez Hierro     39\n",
       "58   Leonard Evers     34\n",
       "114  Dirk Heidicke      0"
      ]
     },
     "execution_count": 161,
     "metadata": {},
     "output_type": "execute_result"
    }
   ],
   "source": [
    "composers_age.tail()"
   ]
  },
  {
   "cell_type": "code",
   "execution_count": 178,
   "metadata": {},
   "outputs": [
    {
     "data": {
      "text/html": [
       "<div>\n",
       "<style scoped>\n",
       "    .dataframe tbody tr th:only-of-type {\n",
       "        vertical-align: middle;\n",
       "    }\n",
       "\n",
       "    .dataframe tbody tr th {\n",
       "        vertical-align: top;\n",
       "    }\n",
       "\n",
       "    .dataframe thead th {\n",
       "        text-align: right;\n",
       "    }\n",
       "</style>\n",
       "<table border=\"1\" class=\"dataframe\">\n",
       "  <thead>\n",
       "    <tr style=\"text-align: right;\">\n",
       "      <th></th>\n",
       "      <th>Spielstätte</th>\n",
       "      <th>Ort</th>\n",
       "      <th>Titel</th>\n",
       "      <th>Anzahl</th>\n",
       "      <th>Komponist</th>\n",
       "      <th>Komponist_ber</th>\n",
       "      <th>Geburtsort</th>\n",
       "      <th>Geschlecht</th>\n",
       "      <th>Geburtsjahr</th>\n",
       "      <th>Alter</th>\n",
       "      <th>Sterbedatum</th>\n",
       "      <th>Verstorben</th>\n",
       "      <th>Art</th>\n",
       "      <th>Bemerkung</th>\n",
       "    </tr>\n",
       "  </thead>\n",
       "  <tbody>\n",
       "    <tr>\n",
       "      <th>20</th>\n",
       "      <td>Theater und Philharmoie Essen</td>\n",
       "      <td>Essen</td>\n",
       "      <td>Der Freischütz</td>\n",
       "      <td>10</td>\n",
       "      <td>Carl Maria von Weber</td>\n",
       "      <td>Carl Maria von Weber</td>\n",
       "      <td>Eutin</td>\n",
       "      <td>männlich</td>\n",
       "      <td>1786</td>\n",
       "      <td>233</td>\n",
       "      <td>1826</td>\n",
       "      <td>Tot</td>\n",
       "      <td>premieren</td>\n",
       "      <td>NaN</td>\n",
       "    </tr>\n",
       "  </tbody>\n",
       "</table>\n",
       "</div>"
      ],
      "text/plain": [
       "                      Spielstätte    Ort           Titel  Anzahl  \\\n",
       "20  Theater und Philharmoie Essen  Essen  Der Freischütz      10   \n",
       "\n",
       "               Komponist         Komponist_ber Geburtsort Geschlecht  \\\n",
       "20  Carl Maria von Weber  Carl Maria von Weber      Eutin   männlich   \n",
       "\n",
       "    Geburtsjahr  Alter  Sterbedatum Verstorben        Art Bemerkung  \n",
       "20         1786    233         1826        Tot  premieren       NaN  "
      ]
     },
     "execution_count": 178,
     "metadata": {},
     "output_type": "execute_result"
    }
   ],
   "source": [
    "df.sample()"
   ]
  },
  {
   "cell_type": "markdown",
   "metadata": {},
   "source": [
    "### Anteil vor 1919 geboren"
   ]
  },
  {
   "cell_type": "code",
   "execution_count": 287,
   "metadata": {},
   "outputs": [],
   "source": [
    "junge = df[['Komponist_ber', 'Geburtsjahr', 'Alter', 'Verstorben']]"
   ]
  },
  {
   "cell_type": "code",
   "execution_count": 288,
   "metadata": {},
   "outputs": [],
   "source": [
    "junge = junge.drop_duplicates()"
   ]
  },
  {
   "cell_type": "code",
   "execution_count": 289,
   "metadata": {},
   "outputs": [
    {
     "data": {
      "text/html": [
       "<div>\n",
       "<style scoped>\n",
       "    .dataframe tbody tr th:only-of-type {\n",
       "        vertical-align: middle;\n",
       "    }\n",
       "\n",
       "    .dataframe tbody tr th {\n",
       "        vertical-align: top;\n",
       "    }\n",
       "\n",
       "    .dataframe thead th {\n",
       "        text-align: right;\n",
       "    }\n",
       "</style>\n",
       "<table border=\"1\" class=\"dataframe\">\n",
       "  <thead>\n",
       "    <tr style=\"text-align: right;\">\n",
       "      <th></th>\n",
       "      <th>Komponist_ber</th>\n",
       "      <th>Geburtsjahr</th>\n",
       "      <th>Alter</th>\n",
       "      <th>Verstorben</th>\n",
       "    </tr>\n",
       "  </thead>\n",
       "  <tbody>\n",
       "    <tr>\n",
       "      <th>81</th>\n",
       "      <td>Giacomo Puccini</td>\n",
       "      <td>1858</td>\n",
       "      <td>161</td>\n",
       "      <td>Tot</td>\n",
       "    </tr>\n",
       "  </tbody>\n",
       "</table>\n",
       "</div>"
      ],
      "text/plain": [
       "      Komponist_ber  Geburtsjahr  Alter Verstorben\n",
       "81  Giacomo Puccini         1858    161        Tot"
      ]
     },
     "execution_count": 289,
     "metadata": {},
     "output_type": "execute_result"
    }
   ],
   "source": [
    "junge.sample()"
   ]
  },
  {
   "cell_type": "code",
   "execution_count": 290,
   "metadata": {},
   "outputs": [
    {
     "data": {
      "text/plain": [
       "(66, 4)"
      ]
     },
     "execution_count": 290,
     "metadata": {},
     "output_type": "execute_result"
    }
   ],
   "source": [
    "junge.shape"
   ]
  },
  {
   "cell_type": "code",
   "execution_count": 291,
   "metadata": {},
   "outputs": [],
   "source": [
    "junge_1919 = junge[junge.Geburtsjahr > 1919]"
   ]
  },
  {
   "cell_type": "code",
   "execution_count": 292,
   "metadata": {},
   "outputs": [
    {
     "data": {
      "text/plain": [
       "(21, 4)"
      ]
     },
     "execution_count": 292,
     "metadata": {},
     "output_type": "execute_result"
    }
   ],
   "source": [
    "junge_1900.shape"
   ]
  },
  {
   "cell_type": "code",
   "execution_count": 293,
   "metadata": {},
   "outputs": [
    {
     "data": {
      "text/plain": [
       "Index(['Komponist_ber', 'Geburtsjahr', 'Alter', 'Verstorben'], dtype='object')"
      ]
     },
     "execution_count": 293,
     "metadata": {},
     "output_type": "execute_result"
    }
   ],
   "source": [
    "junge.columns"
   ]
  },
  {
   "cell_type": "code",
   "execution_count": 294,
   "metadata": {},
   "outputs": [],
   "source": [
    "junge = junge[['Komponist_ber', 'Geburtsjahr']]"
   ]
  },
  {
   "cell_type": "code",
   "execution_count": 295,
   "metadata": {},
   "outputs": [],
   "source": [
    "junge['Jung'] = junge.Geburtsjahr.apply(lambda x: 'Nach 1919' if x > 1919 else 'Vor 1919')"
   ]
  },
  {
   "cell_type": "code",
   "execution_count": 296,
   "metadata": {},
   "outputs": [],
   "source": [
    "junge = junge.groupby('Jung').count()"
   ]
  },
  {
   "cell_type": "code",
   "execution_count": 297,
   "metadata": {},
   "outputs": [
    {
     "data": {
      "text/html": [
       "<div>\n",
       "<style scoped>\n",
       "    .dataframe tbody tr th:only-of-type {\n",
       "        vertical-align: middle;\n",
       "    }\n",
       "\n",
       "    .dataframe tbody tr th {\n",
       "        vertical-align: top;\n",
       "    }\n",
       "\n",
       "    .dataframe thead th {\n",
       "        text-align: right;\n",
       "    }\n",
       "</style>\n",
       "<table border=\"1\" class=\"dataframe\">\n",
       "  <thead>\n",
       "    <tr style=\"text-align: right;\">\n",
       "      <th></th>\n",
       "      <th>Komponist_ber</th>\n",
       "      <th>Geburtsjahr</th>\n",
       "    </tr>\n",
       "    <tr>\n",
       "      <th>Jung</th>\n",
       "      <th></th>\n",
       "      <th></th>\n",
       "    </tr>\n",
       "  </thead>\n",
       "  <tbody>\n",
       "    <tr>\n",
       "      <th>Nach 1919</th>\n",
       "      <td>21</td>\n",
       "      <td>21</td>\n",
       "    </tr>\n",
       "    <tr>\n",
       "      <th>Vor 1919</th>\n",
       "      <td>45</td>\n",
       "      <td>45</td>\n",
       "    </tr>\n",
       "  </tbody>\n",
       "</table>\n",
       "</div>"
      ],
      "text/plain": [
       "           Komponist_ber  Geburtsjahr\n",
       "Jung                                 \n",
       "Nach 1919             21           21\n",
       "Vor 1919              45           45"
      ]
     },
     "execution_count": 297,
     "metadata": {},
     "output_type": "execute_result"
    }
   ],
   "source": [
    "junge"
   ]
  },
  {
   "cell_type": "code",
   "execution_count": 298,
   "metadata": {},
   "outputs": [],
   "source": [
    "junge.to_csv('csv/vor1900.csv')"
   ]
  },
  {
   "cell_type": "code",
   "execution_count": 299,
   "metadata": {},
   "outputs": [
    {
     "data": {
      "text/plain": [
       "Index(['Komponist_ber', 'Geburtsjahr'], dtype='object')"
      ]
     },
     "execution_count": 299,
     "metadata": {},
     "output_type": "execute_result"
    }
   ],
   "source": [
    "junge.columns"
   ]
  },
  {
   "cell_type": "code",
   "execution_count": 300,
   "metadata": {},
   "outputs": [
    {
     "data": {
      "text/plain": [
       "31.818181818181817"
      ]
     },
     "execution_count": 300,
     "metadata": {},
     "output_type": "execute_result"
    }
   ],
   "source": [
    "# Prozentsatz berechnen\n",
    "21/66*100"
   ]
  },
  {
   "cell_type": "code",
   "execution_count": 301,
   "metadata": {},
   "outputs": [
    {
     "data": {
      "text/plain": [
       "68.18181818181817"
      ]
     },
     "execution_count": 301,
     "metadata": {},
     "output_type": "execute_result"
    }
   ],
   "source": [
    "# Prozentsatz berechnen\n",
    "45/66*100"
   ]
  },
  {
   "cell_type": "code",
   "execution_count": 302,
   "metadata": {},
   "outputs": [],
   "source": []
  },
  {
   "cell_type": "code",
   "execution_count": 304,
   "metadata": {},
   "outputs": [
    {
     "data": {
      "text/plain": [
       "(24, 14)"
      ]
     },
     "execution_count": 304,
     "metadata": {},
     "output_type": "execute_result"
    }
   ],
   "source": [
    "junge_anzahl.shape"
   ]
  },
  {
   "cell_type": "code",
   "execution_count": 311,
   "metadata": {},
   "outputs": [],
   "source": [
    "df['vor 1919'] = df.Geburtsjahr.apply(lambda x: 'Nach 1919' if x > 1919 else 'Vor 1919')"
   ]
  },
  {
   "cell_type": "code",
   "execution_count": 312,
   "metadata": {},
   "outputs": [
    {
     "data": {
      "text/html": [
       "<div>\n",
       "<style scoped>\n",
       "    .dataframe tbody tr th:only-of-type {\n",
       "        vertical-align: middle;\n",
       "    }\n",
       "\n",
       "    .dataframe tbody tr th {\n",
       "        vertical-align: top;\n",
       "    }\n",
       "\n",
       "    .dataframe thead th {\n",
       "        text-align: right;\n",
       "    }\n",
       "</style>\n",
       "<table border=\"1\" class=\"dataframe\">\n",
       "  <thead>\n",
       "    <tr style=\"text-align: right;\">\n",
       "      <th></th>\n",
       "      <th>Anzahl</th>\n",
       "      <th>Geburtsjahr</th>\n",
       "      <th>Alter</th>\n",
       "      <th>Sterbedatum</th>\n",
       "    </tr>\n",
       "    <tr>\n",
       "      <th>vor 1919</th>\n",
       "      <th></th>\n",
       "      <th></th>\n",
       "      <th></th>\n",
       "      <th></th>\n",
       "    </tr>\n",
       "  </thead>\n",
       "  <tbody>\n",
       "    <tr>\n",
       "      <th>Nach 1919</th>\n",
       "      <td>120</td>\n",
       "      <td>46962</td>\n",
       "      <td>1494</td>\n",
       "      <td>10074</td>\n",
       "    </tr>\n",
       "    <tr>\n",
       "      <th>Vor 1919</th>\n",
       "      <td>904</td>\n",
       "      <td>244202</td>\n",
       "      <td>26344</td>\n",
       "      <td>253107</td>\n",
       "    </tr>\n",
       "  </tbody>\n",
       "</table>\n",
       "</div>"
      ],
      "text/plain": [
       "           Anzahl  Geburtsjahr  Alter  Sterbedatum\n",
       "vor 1919                                          \n",
       "Nach 1919     120        46962   1494        10074\n",
       "Vor 1919      904       244202  26344       253107"
      ]
     },
     "execution_count": 312,
     "metadata": {},
     "output_type": "execute_result"
    }
   ],
   "source": [
    "df.groupby('vor 1919').agg(sum)"
   ]
  },
  {
   "cell_type": "code",
   "execution_count": 313,
   "metadata": {},
   "outputs": [
    {
     "data": {
      "text/plain": [
       "11.71875"
      ]
     },
     "execution_count": 313,
     "metadata": {},
     "output_type": "execute_result"
    }
   ],
   "source": [
    "120/1024*100"
   ]
  },
  {
   "cell_type": "code",
   "execution_count": 314,
   "metadata": {},
   "outputs": [
    {
     "data": {
      "text/plain": [
       "88.28125"
      ]
     },
     "execution_count": 314,
     "metadata": {},
     "output_type": "execute_result"
    }
   ],
   "source": [
    "904/1024*100"
   ]
  },
  {
   "cell_type": "markdown",
   "metadata": {},
   "source": [
    "### Männer und Frauen  "
   ]
  },
  {
   "cell_type": "code",
   "execution_count": 317,
   "metadata": {},
   "outputs": [
    {
     "data": {
      "text/plain": [
       "Index(['Spielstätte', 'Ort', 'Titel', 'Anzahl', 'Komponist', 'Komponist_ber',\n",
       "       'Geburtsort', 'Geschlecht', 'Geburtsjahr', 'Alter', 'Sterbedatum',\n",
       "       'Verstorben', 'Art', 'Bemerkung', 'vor 1919'],\n",
       "      dtype='object')"
      ]
     },
     "execution_count": 317,
     "metadata": {},
     "output_type": "execute_result"
    }
   ],
   "source": [
    "df.columns"
   ]
  },
  {
   "cell_type": "markdown",
   "metadata": {},
   "source": [
    "### Häuser "
   ]
  },
  {
   "cell_type": "code",
   "execution_count": 196,
   "metadata": {},
   "outputs": [
    {
     "data": {
      "text/plain": [
       "Düsseldorf/Duisburg        38\n",
       "Köln                       20\n",
       "Essen                      16\n",
       "Bonn                       13\n",
       "Krefeld/Mönchengladbach    12\n",
       "Gelsenkirchen              12\n",
       "Wuppertal                  10\n",
       "Dortmund                    9\n",
       "Hagen                       9\n",
       "Aachen                      8\n",
       "Bielefeld                   7\n",
       "Herford                     4\n",
       "Minden                      1\n",
       "Name: Ort, dtype: int64"
      ]
     },
     "execution_count": 196,
     "metadata": {},
     "output_type": "execute_result"
    }
   ],
   "source": [
    "df.Ort.value_counts()"
   ]
  },
  {
   "cell_type": "code",
   "execution_count": 44,
   "metadata": {},
   "outputs": [
    {
     "data": {
      "text/html": [
       "<div>\n",
       "<style scoped>\n",
       "    .dataframe tbody tr th:only-of-type {\n",
       "        vertical-align: middle;\n",
       "    }\n",
       "\n",
       "    .dataframe tbody tr th {\n",
       "        vertical-align: top;\n",
       "    }\n",
       "\n",
       "    .dataframe thead th {\n",
       "        text-align: right;\n",
       "    }\n",
       "</style>\n",
       "<table border=\"1\" class=\"dataframe\">\n",
       "  <thead>\n",
       "    <tr style=\"text-align: right;\">\n",
       "      <th></th>\n",
       "      <th>Geburtsort</th>\n",
       "      <th>Sterbedatum</th>\n",
       "      <th>Geschlecht</th>\n",
       "      <th>Spielstätte</th>\n",
       "      <th>Veranstalter</th>\n",
       "      <th>Ort</th>\n",
       "      <th>Art</th>\n",
       "      <th>Titel</th>\n",
       "      <th>Anzahl</th>\n",
       "      <th>Geburtsjahr</th>\n",
       "      <th>Alter</th>\n",
       "      <th>Verstorben</th>\n",
       "      <th>Oper</th>\n",
       "      <th>Bemerkung</th>\n",
       "    </tr>\n",
       "    <tr>\n",
       "      <th>Komponist_ber</th>\n",
       "      <th></th>\n",
       "      <th></th>\n",
       "      <th></th>\n",
       "      <th></th>\n",
       "      <th></th>\n",
       "      <th></th>\n",
       "      <th></th>\n",
       "      <th></th>\n",
       "      <th></th>\n",
       "      <th></th>\n",
       "      <th></th>\n",
       "      <th></th>\n",
       "      <th></th>\n",
       "      <th></th>\n",
       "    </tr>\n",
       "  </thead>\n",
       "  <tbody>\n",
       "    <tr>\n",
       "      <th>Giuseppe Verdi</th>\n",
       "      <td>22</td>\n",
       "      <td>22</td>\n",
       "      <td>22</td>\n",
       "      <td>22</td>\n",
       "      <td>22</td>\n",
       "      <td>22</td>\n",
       "      <td>22</td>\n",
       "      <td>22</td>\n",
       "      <td>22</td>\n",
       "      <td>22</td>\n",
       "      <td>22</td>\n",
       "      <td>22</td>\n",
       "      <td>22</td>\n",
       "      <td>0</td>\n",
       "    </tr>\n",
       "    <tr>\n",
       "      <th>Wolfgang Amadeus Mozart</th>\n",
       "      <td>15</td>\n",
       "      <td>15</td>\n",
       "      <td>15</td>\n",
       "      <td>15</td>\n",
       "      <td>15</td>\n",
       "      <td>15</td>\n",
       "      <td>15</td>\n",
       "      <td>15</td>\n",
       "      <td>15</td>\n",
       "      <td>15</td>\n",
       "      <td>15</td>\n",
       "      <td>15</td>\n",
       "      <td>15</td>\n",
       "      <td>1</td>\n",
       "    </tr>\n",
       "    <tr>\n",
       "      <th>Richard Wagner</th>\n",
       "      <td>11</td>\n",
       "      <td>11</td>\n",
       "      <td>11</td>\n",
       "      <td>11</td>\n",
       "      <td>11</td>\n",
       "      <td>11</td>\n",
       "      <td>11</td>\n",
       "      <td>11</td>\n",
       "      <td>11</td>\n",
       "      <td>11</td>\n",
       "      <td>11</td>\n",
       "      <td>11</td>\n",
       "      <td>11</td>\n",
       "      <td>0</td>\n",
       "    </tr>\n",
       "    <tr>\n",
       "      <th>Giacomo Puccini</th>\n",
       "      <td>8</td>\n",
       "      <td>9</td>\n",
       "      <td>8</td>\n",
       "      <td>9</td>\n",
       "      <td>9</td>\n",
       "      <td>9</td>\n",
       "      <td>9</td>\n",
       "      <td>9</td>\n",
       "      <td>9</td>\n",
       "      <td>9</td>\n",
       "      <td>9</td>\n",
       "      <td>9</td>\n",
       "      <td>9</td>\n",
       "      <td>1</td>\n",
       "    </tr>\n",
       "    <tr>\n",
       "      <th>Engelbert Humperdinck</th>\n",
       "      <td>7</td>\n",
       "      <td>7</td>\n",
       "      <td>7</td>\n",
       "      <td>7</td>\n",
       "      <td>7</td>\n",
       "      <td>7</td>\n",
       "      <td>7</td>\n",
       "      <td>7</td>\n",
       "      <td>7</td>\n",
       "      <td>7</td>\n",
       "      <td>7</td>\n",
       "      <td>7</td>\n",
       "      <td>7</td>\n",
       "      <td>0</td>\n",
       "    </tr>\n",
       "    <tr>\n",
       "      <th>Jacques Offenbach</th>\n",
       "      <td>6</td>\n",
       "      <td>7</td>\n",
       "      <td>6</td>\n",
       "      <td>7</td>\n",
       "      <td>7</td>\n",
       "      <td>7</td>\n",
       "      <td>7</td>\n",
       "      <td>7</td>\n",
       "      <td>7</td>\n",
       "      <td>7</td>\n",
       "      <td>7</td>\n",
       "      <td>7</td>\n",
       "      <td>7</td>\n",
       "      <td>1</td>\n",
       "    </tr>\n",
       "    <tr>\n",
       "      <th>Richard Strauss</th>\n",
       "      <td>5</td>\n",
       "      <td>5</td>\n",
       "      <td>5</td>\n",
       "      <td>5</td>\n",
       "      <td>5</td>\n",
       "      <td>5</td>\n",
       "      <td>5</td>\n",
       "      <td>5</td>\n",
       "      <td>5</td>\n",
       "      <td>5</td>\n",
       "      <td>5</td>\n",
       "      <td>5</td>\n",
       "      <td>5</td>\n",
       "      <td>0</td>\n",
       "    </tr>\n",
       "    <tr>\n",
       "      <th>Franz Lehár</th>\n",
       "      <td>4</td>\n",
       "      <td>4</td>\n",
       "      <td>4</td>\n",
       "      <td>4</td>\n",
       "      <td>4</td>\n",
       "      <td>4</td>\n",
       "      <td>4</td>\n",
       "      <td>4</td>\n",
       "      <td>4</td>\n",
       "      <td>4</td>\n",
       "      <td>4</td>\n",
       "      <td>4</td>\n",
       "      <td>4</td>\n",
       "      <td>1</td>\n",
       "    </tr>\n",
       "    <tr>\n",
       "      <th>Carl Maria von Weber</th>\n",
       "      <td>4</td>\n",
       "      <td>4</td>\n",
       "      <td>4</td>\n",
       "      <td>4</td>\n",
       "      <td>4</td>\n",
       "      <td>4</td>\n",
       "      <td>4</td>\n",
       "      <td>4</td>\n",
       "      <td>4</td>\n",
       "      <td>4</td>\n",
       "      <td>4</td>\n",
       "      <td>4</td>\n",
       "      <td>4</td>\n",
       "      <td>0</td>\n",
       "    </tr>\n",
       "    <tr>\n",
       "      <th>Georg Friedrich Händel</th>\n",
       "      <td>3</td>\n",
       "      <td>3</td>\n",
       "      <td>3</td>\n",
       "      <td>3</td>\n",
       "      <td>3</td>\n",
       "      <td>3</td>\n",
       "      <td>3</td>\n",
       "      <td>3</td>\n",
       "      <td>3</td>\n",
       "      <td>3</td>\n",
       "      <td>3</td>\n",
       "      <td>3</td>\n",
       "      <td>3</td>\n",
       "      <td>0</td>\n",
       "    </tr>\n",
       "  </tbody>\n",
       "</table>\n",
       "</div>"
      ],
      "text/plain": [
       "                         Geburtsort  Sterbedatum  Geschlecht  Spielstätte  \\\n",
       "Komponist_ber                                                               \n",
       "Giuseppe Verdi                   22           22          22           22   \n",
       "Wolfgang Amadeus Mozart          15           15          15           15   \n",
       "Richard Wagner                   11           11          11           11   \n",
       "Giacomo Puccini                   8            9           8            9   \n",
       "Engelbert Humperdinck             7            7           7            7   \n",
       "Jacques Offenbach                 6            7           6            7   \n",
       "Richard Strauss                   5            5           5            5   \n",
       "Franz Lehár                       4            4           4            4   \n",
       "Carl Maria von Weber              4            4           4            4   \n",
       "Georg Friedrich Händel            3            3           3            3   \n",
       "\n",
       "                         Veranstalter  Ort  Art  Titel  Anzahl  Geburtsjahr  \\\n",
       "Komponist_ber                                                                 \n",
       "Giuseppe Verdi                     22   22   22     22      22           22   \n",
       "Wolfgang Amadeus Mozart            15   15   15     15      15           15   \n",
       "Richard Wagner                     11   11   11     11      11           11   \n",
       "Giacomo Puccini                     9    9    9      9       9            9   \n",
       "Engelbert Humperdinck               7    7    7      7       7            7   \n",
       "Jacques Offenbach                   7    7    7      7       7            7   \n",
       "Richard Strauss                     5    5    5      5       5            5   \n",
       "Franz Lehár                         4    4    4      4       4            4   \n",
       "Carl Maria von Weber                4    4    4      4       4            4   \n",
       "Georg Friedrich Händel              3    3    3      3       3            3   \n",
       "\n",
       "                         Alter  Verstorben  Oper  Bemerkung  \n",
       "Komponist_ber                                                \n",
       "Giuseppe Verdi              22          22    22          0  \n",
       "Wolfgang Amadeus Mozart     15          15    15          1  \n",
       "Richard Wagner              11          11    11          0  \n",
       "Giacomo Puccini              9           9     9          1  \n",
       "Engelbert Humperdinck        7           7     7          0  \n",
       "Jacques Offenbach            7           7     7          1  \n",
       "Richard Strauss              5           5     5          0  \n",
       "Franz Lehár                  4           4     4          1  \n",
       "Carl Maria von Weber         4           4     4          0  \n",
       "Georg Friedrich Händel       3           3     3          0  "
      ]
     },
     "execution_count": 44,
     "metadata": {},
     "output_type": "execute_result"
    }
   ],
   "source": [
    "df.groupby('Komponist_ber').count().sort_values(by='Spielstätte', ascending=False).head(10)"
   ]
  },
  {
   "cell_type": "code",
   "execution_count": 353,
   "metadata": {},
   "outputs": [
    {
     "data": {
      "text/html": [
       "<div>\n",
       "<style scoped>\n",
       "    .dataframe tbody tr th:only-of-type {\n",
       "        vertical-align: middle;\n",
       "    }\n",
       "\n",
       "    .dataframe tbody tr th {\n",
       "        vertical-align: top;\n",
       "    }\n",
       "\n",
       "    .dataframe thead th {\n",
       "        text-align: right;\n",
       "    }\n",
       "</style>\n",
       "<table border=\"1\" class=\"dataframe\">\n",
       "  <thead>\n",
       "    <tr style=\"text-align: right;\">\n",
       "      <th></th>\n",
       "      <th>Spielstätte</th>\n",
       "      <th>Ort</th>\n",
       "      <th>Titel</th>\n",
       "      <th>Anzahl</th>\n",
       "      <th>Komponist</th>\n",
       "      <th>Komponist_ber</th>\n",
       "      <th>Geburtsort</th>\n",
       "      <th>Geschlecht</th>\n",
       "      <th>Geburtsjahr</th>\n",
       "      <th>Alter</th>\n",
       "      <th>Sterbedatum</th>\n",
       "      <th>Verstorben</th>\n",
       "      <th>Art</th>\n",
       "      <th>Bemerkung</th>\n",
       "    </tr>\n",
       "  </thead>\n",
       "  <tbody>\n",
       "    <tr>\n",
       "      <th>117</th>\n",
       "      <td>Wuppertaler Bühnen</td>\n",
       "      <td>Wuppertal</td>\n",
       "      <td>Kleines Stück Himmel</td>\n",
       "      <td>8</td>\n",
       "      <td>NaN</td>\n",
       "      <td>Nuñez Hierro</td>\n",
       "      <td>Cádiz</td>\n",
       "      <td>weiblich</td>\n",
       "      <td>1980</td>\n",
       "      <td>39</td>\n",
       "      <td>0</td>\n",
       "      <td>lebt</td>\n",
       "      <td>premieren</td>\n",
       "      <td>NaN</td>\n",
       "    </tr>\n",
       "  </tbody>\n",
       "</table>\n",
       "</div>"
      ],
      "text/plain": [
       "            Spielstätte        Ort                 Titel  Anzahl Komponist  \\\n",
       "117  Wuppertaler Bühnen  Wuppertal  Kleines Stück Himmel       8       NaN   \n",
       "\n",
       "    Komponist_ber Geburtsort Geschlecht  Geburtsjahr  Alter  Sterbedatum  \\\n",
       "117  Nuñez Hierro      Cádiz   weiblich         1980     39            0   \n",
       "\n",
       "    Verstorben        Art Bemerkung  \n",
       "117       lebt  premieren       NaN  "
      ]
     },
     "execution_count": 353,
     "metadata": {},
     "output_type": "execute_result"
    }
   ],
   "source": [
    " df[df.Geschlecht == 'weiblich']"
   ]
  },
  {
   "cell_type": "code",
   "execution_count": 363,
   "metadata": {},
   "outputs": [],
   "source": [
    "geburtsorte = df[['Komponist_ber', 'Geburtsort']]"
   ]
  },
  {
   "cell_type": "code",
   "execution_count": 366,
   "metadata": {
    "scrolled": true
   },
   "outputs": [],
   "source": [
    "geburtsorte = geburtsorte.drop_duplicates()"
   ]
  },
  {
   "cell_type": "code",
   "execution_count": 367,
   "metadata": {},
   "outputs": [],
   "source": [
    "geburtsorte.to_csv('geburtsorte.csv')"
   ]
  },
  {
   "cell_type": "markdown",
   "metadata": {},
   "source": [
    "### Spielstätten"
   ]
  },
  {
   "cell_type": "code",
   "execution_count": 222,
   "metadata": {},
   "outputs": [
    {
     "data": {
      "text/plain": [
       "Index(['Spielstätte', 'Ort', 'Titel', 'Anzahl', 'Komponist', 'Komponist_ber',\n",
       "       'Geburtsort', 'Geschlecht', 'Geburtsjahr', 'Alter', 'Sterbedatum',\n",
       "       'Verstorben', 'Art', 'Bemerkung'],\n",
       "      dtype='object')"
      ]
     },
     "execution_count": 222,
     "metadata": {},
     "output_type": "execute_result"
    }
   ],
   "source": [
    "df.columns"
   ]
  },
  {
   "cell_type": "code",
   "execution_count": 227,
   "metadata": {},
   "outputs": [
    {
     "data": {
      "text/html": [
       "<div>\n",
       "<style scoped>\n",
       "    .dataframe tbody tr th:only-of-type {\n",
       "        vertical-align: middle;\n",
       "    }\n",
       "\n",
       "    .dataframe tbody tr th {\n",
       "        vertical-align: top;\n",
       "    }\n",
       "\n",
       "    .dataframe thead th {\n",
       "        text-align: right;\n",
       "    }\n",
       "</style>\n",
       "<table border=\"1\" class=\"dataframe\">\n",
       "  <thead>\n",
       "    <tr style=\"text-align: right;\">\n",
       "      <th></th>\n",
       "      <th>Anzahl</th>\n",
       "      <th>Geburtsjahr</th>\n",
       "      <th>Alter</th>\n",
       "      <th>Sterbedatum</th>\n",
       "    </tr>\n",
       "    <tr>\n",
       "      <th>Spielstätte</th>\n",
       "      <th></th>\n",
       "      <th></th>\n",
       "      <th></th>\n",
       "      <th></th>\n",
       "    </tr>\n",
       "  </thead>\n",
       "  <tbody>\n",
       "    <tr>\n",
       "      <th>Deutsche Oper am Rhein</th>\n",
       "      <td>218</td>\n",
       "      <td>69743</td>\n",
       "      <td>6979</td>\n",
       "      <td>64192</td>\n",
       "    </tr>\n",
       "    <tr>\n",
       "      <th>Oper Köln</th>\n",
       "      <td>150</td>\n",
       "      <td>37128</td>\n",
       "      <td>3252</td>\n",
       "      <td>34424</td>\n",
       "    </tr>\n",
       "    <tr>\n",
       "      <th>Theater/Oper/Schauspiel Bonn</th>\n",
       "      <td>105</td>\n",
       "      <td>23867</td>\n",
       "      <td>2380</td>\n",
       "      <td>20654</td>\n",
       "    </tr>\n",
       "    <tr>\n",
       "      <th>Theater Krefeld Mönchengladbach</th>\n",
       "      <td>82</td>\n",
       "      <td>22228</td>\n",
       "      <td>2000</td>\n",
       "      <td>18987</td>\n",
       "    </tr>\n",
       "    <tr>\n",
       "      <th>Musiktheater im Revier, Gelsenkirchen</th>\n",
       "      <td>75</td>\n",
       "      <td>22528</td>\n",
       "      <td>1700</td>\n",
       "      <td>19180</td>\n",
       "    </tr>\n",
       "    <tr>\n",
       "      <th>Theater Hagen</th>\n",
       "      <td>74</td>\n",
       "      <td>15975</td>\n",
       "      <td>2196</td>\n",
       "      <td>16599</td>\n",
       "    </tr>\n",
       "    <tr>\n",
       "      <th>Theater und Philharmoie Essen</th>\n",
       "      <td>74</td>\n",
       "      <td>29180</td>\n",
       "      <td>3124</td>\n",
       "      <td>28181</td>\n",
       "    </tr>\n",
       "    <tr>\n",
       "      <th>Theater Aachen</th>\n",
       "      <td>68</td>\n",
       "      <td>14548</td>\n",
       "      <td>1604</td>\n",
       "      <td>15134</td>\n",
       "    </tr>\n",
       "    <tr>\n",
       "      <th>Oper, Ballett und Junge Oper Dortmund</th>\n",
       "      <td>67</td>\n",
       "      <td>17062</td>\n",
       "      <td>1109</td>\n",
       "      <td>11649</td>\n",
       "    </tr>\n",
       "    <tr>\n",
       "      <th>Wuppertaler Bühnen</th>\n",
       "      <td>55</td>\n",
       "      <td>18749</td>\n",
       "      <td>1441</td>\n",
       "      <td>15333</td>\n",
       "    </tr>\n",
       "    <tr>\n",
       "      <th>Theater Bielefeld</th>\n",
       "      <td>46</td>\n",
       "      <td>12803</td>\n",
       "      <td>1330</td>\n",
       "      <td>11210</td>\n",
       "    </tr>\n",
       "    <tr>\n",
       "      <th>Stadttheater Minden</th>\n",
       "      <td>6</td>\n",
       "      <td>1813</td>\n",
       "      <td>206</td>\n",
       "      <td>1883</td>\n",
       "    </tr>\n",
       "    <tr>\n",
       "      <th>Theater Herford</th>\n",
       "      <td>4</td>\n",
       "      <td>5540</td>\n",
       "      <td>517</td>\n",
       "      <td>5755</td>\n",
       "    </tr>\n",
       "  </tbody>\n",
       "</table>\n",
       "</div>"
      ],
      "text/plain": [
       "                                       Anzahl  Geburtsjahr  Alter  Sterbedatum\n",
       "Spielstätte                                                                   \n",
       "Deutsche Oper am Rhein                    218        69743   6979        64192\n",
       "Oper Köln                                 150        37128   3252        34424\n",
       "Theater/Oper/Schauspiel Bonn              105        23867   2380        20654\n",
       "Theater Krefeld Mönchengladbach            82        22228   2000        18987\n",
       "Musiktheater im Revier, Gelsenkirchen      75        22528   1700        19180\n",
       "Theater Hagen                              74        15975   2196        16599\n",
       "Theater und Philharmoie Essen              74        29180   3124        28181\n",
       "Theater Aachen                             68        14548   1604        15134\n",
       "Oper, Ballett und Junge Oper Dortmund      67        17062   1109        11649\n",
       "Wuppertaler Bühnen                         55        18749   1441        15333\n",
       "Theater Bielefeld                          46        12803   1330        11210\n",
       "Stadttheater Minden                         6         1813    206         1883\n",
       "Theater Herford                             4         5540    517         5755"
      ]
     },
     "execution_count": 227,
     "metadata": {},
     "output_type": "execute_result"
    }
   ],
   "source": [
    "df.groupby('Spielstätte').sum().sort_values(by='Anzahl', ascending= False)"
   ]
  },
  {
   "cell_type": "code",
   "execution_count": 233,
   "metadata": {},
   "outputs": [
    {
     "data": {
      "text/plain": [
       "69187.20497623291"
      ]
     },
     "execution_count": 233,
     "metadata": {},
     "output_type": "execute_result"
    }
   ],
   "source": []
  },
  {
   "cell_type": "code",
   "execution_count": null,
   "metadata": {},
   "outputs": [],
   "source": []
  }
 ],
 "metadata": {
  "kernelspec": {
   "display_name": "Python 3",
   "language": "python",
   "name": "python3"
  },
  "language_info": {
   "codemirror_mode": {
    "name": "ipython",
    "version": 3
   },
   "file_extension": ".py",
   "mimetype": "text/x-python",
   "name": "python",
   "nbconvert_exporter": "python",
   "pygments_lexer": "ipython3",
   "version": "3.6.7"
  }
 },
 "nbformat": 4,
 "nbformat_minor": 2
}
